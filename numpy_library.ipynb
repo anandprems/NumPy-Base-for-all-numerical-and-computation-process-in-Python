{
  "nbformat": 4,
  "nbformat_minor": 0,
  "metadata": {
    "colab": {
      "name": "numpy_library.ipynb",
      "provenance": []
    },
    "kernelspec": {
      "name": "python3",
      "display_name": "Python 3"
    },
    "language_info": {
      "name": "python"
    }
  },
  "cells": [
    {
      "cell_type": "code",
      "execution_count": 2,
      "metadata": {
        "colab": {
          "base_uri": "https://localhost:8080/"
        },
        "id": "ufpPo3tsjjaZ",
        "outputId": "377ea3b8-e38f-4d65-f82e-c356d5a06a8c"
      },
      "outputs": [
        {
          "output_type": "stream",
          "name": "stdout",
          "text": [
            "Looking in indexes: https://pypi.org/simple, https://us-python.pkg.dev/colab-wheels/public/simple/\n",
            "Requirement already satisfied: numpy in /usr/local/lib/python3.7/dist-packages (1.21.6)\n"
          ]
        }
      ],
      "source": [
        "#numpy - Numerical Python\n",
        "!pip install numpy"
      ]
    },
    {
      "cell_type": "code",
      "source": [
        "#importing numpy libraries\n",
        "import numpy as np"
      ],
      "metadata": {
        "id": "tT0EF7bqk0Jl"
      },
      "execution_count": 3,
      "outputs": []
    },
    {
      "cell_type": "code",
      "source": [
        "#numpy version\n",
        "np.__version__"
      ],
      "metadata": {
        "colab": {
          "base_uri": "https://localhost:8080/",
          "height": 36
        },
        "id": "WghvQ1HV6a1l",
        "outputId": "ba80d421-f725-46c5-89c5-b631592b57fe"
      },
      "execution_count": 4,
      "outputs": [
        {
          "output_type": "execute_result",
          "data": {
            "text/plain": [
              "'1.21.6'"
            ],
            "application/vnd.google.colaboratory.intrinsic+json": {
              "type": "string"
            }
          },
          "metadata": {},
          "execution_count": 4
        }
      ]
    },
    {
      "cell_type": "markdown",
      "source": [
        "#common mistakes"
      ],
      "metadata": {
        "id": "kUjugLPw5KyW"
      }
    },
    {
      "cell_type": "code",
      "source": [
        "#some basics about arrays\n",
        "n1 = np.array(1,2,3,4,5)"
      ],
      "metadata": {
        "colab": {
          "base_uri": "https://localhost:8080/",
          "height": 182
        },
        "id": "3pwAyc5T5JcA",
        "outputId": "790a4d81-5b8d-48cd-bb65-ab35bc781425"
      },
      "execution_count": 5,
      "outputs": [
        {
          "output_type": "error",
          "ename": "TypeError",
          "evalue": "ignored",
          "traceback": [
            "\u001b[0;31m---------------------------------------------------------------------------\u001b[0m",
            "\u001b[0;31mTypeError\u001b[0m                                 Traceback (most recent call last)",
            "\u001b[0;32m<ipython-input-5-e50b1b66941c>\u001b[0m in \u001b[0;36m<module>\u001b[0;34m\u001b[0m\n\u001b[1;32m      1\u001b[0m \u001b[0;31m#some basics about arrays\u001b[0m\u001b[0;34m\u001b[0m\u001b[0;34m\u001b[0m\u001b[0;34m\u001b[0m\u001b[0m\n\u001b[0;32m----> 2\u001b[0;31m \u001b[0mn1\u001b[0m \u001b[0;34m=\u001b[0m \u001b[0mnp\u001b[0m\u001b[0;34m.\u001b[0m\u001b[0marray\u001b[0m\u001b[0;34m(\u001b[0m\u001b[0;36m1\u001b[0m\u001b[0;34m,\u001b[0m\u001b[0;36m2\u001b[0m\u001b[0;34m,\u001b[0m\u001b[0;36m3\u001b[0m\u001b[0;34m,\u001b[0m\u001b[0;36m4\u001b[0m\u001b[0;34m,\u001b[0m\u001b[0;36m5\u001b[0m\u001b[0;34m)\u001b[0m\u001b[0;34m\u001b[0m\u001b[0;34m\u001b[0m\u001b[0m\n\u001b[0m",
            "\u001b[0;31mTypeError\u001b[0m: array() takes from 1 to 2 positional arguments but 5 were given"
          ]
        }
      ]
    },
    {
      "cell_type": "code",
      "source": [
        "n1 = np.array([1,2,3,4,5])"
      ],
      "metadata": {
        "id": "x9tm6aEm5SuJ"
      },
      "execution_count": 6,
      "outputs": []
    },
    {
      "cell_type": "code",
      "source": [
        "print(n1)"
      ],
      "metadata": {
        "colab": {
          "base_uri": "https://localhost:8080/"
        },
        "id": "eGsgZxLa5U1F",
        "outputId": "e0c9712f-7082-4177-90d9-6096663651ba"
      },
      "execution_count": 7,
      "outputs": [
        {
          "output_type": "stream",
          "name": "stdout",
          "text": [
            "[1 2 3 4 5]\n"
          ]
        }
      ]
    },
    {
      "cell_type": "code",
      "source": [
        "n2 = np.array([1,2,3,4,5,6],[7,8,9,10,11,12],[13,14,15,16,17,18])"
      ],
      "metadata": {
        "colab": {
          "base_uri": "https://localhost:8080/",
          "height": 165
        },
        "id": "P9f0FrDv5Y7X",
        "outputId": "d50c2a3b-6802-4d07-8805-c394b5610538"
      },
      "execution_count": 8,
      "outputs": [
        {
          "output_type": "error",
          "ename": "TypeError",
          "evalue": "ignored",
          "traceback": [
            "\u001b[0;31m---------------------------------------------------------------------------\u001b[0m",
            "\u001b[0;31mTypeError\u001b[0m                                 Traceback (most recent call last)",
            "\u001b[0;32m<ipython-input-8-25c46bef6475>\u001b[0m in \u001b[0;36m<module>\u001b[0;34m\u001b[0m\n\u001b[0;32m----> 1\u001b[0;31m \u001b[0mn2\u001b[0m \u001b[0;34m=\u001b[0m \u001b[0mnp\u001b[0m\u001b[0;34m.\u001b[0m\u001b[0marray\u001b[0m\u001b[0;34m(\u001b[0m\u001b[0;34m[\u001b[0m\u001b[0;36m1\u001b[0m\u001b[0;34m,\u001b[0m\u001b[0;36m2\u001b[0m\u001b[0;34m,\u001b[0m\u001b[0;36m3\u001b[0m\u001b[0;34m,\u001b[0m\u001b[0;36m4\u001b[0m\u001b[0;34m,\u001b[0m\u001b[0;36m5\u001b[0m\u001b[0;34m,\u001b[0m\u001b[0;36m6\u001b[0m\u001b[0;34m]\u001b[0m\u001b[0;34m,\u001b[0m\u001b[0;34m[\u001b[0m\u001b[0;36m7\u001b[0m\u001b[0;34m,\u001b[0m\u001b[0;36m8\u001b[0m\u001b[0;34m,\u001b[0m\u001b[0;36m9\u001b[0m\u001b[0;34m,\u001b[0m\u001b[0;36m10\u001b[0m\u001b[0;34m,\u001b[0m\u001b[0;36m11\u001b[0m\u001b[0;34m,\u001b[0m\u001b[0;36m12\u001b[0m\u001b[0;34m]\u001b[0m\u001b[0;34m,\u001b[0m\u001b[0;34m[\u001b[0m\u001b[0;36m13\u001b[0m\u001b[0;34m,\u001b[0m\u001b[0;36m14\u001b[0m\u001b[0;34m,\u001b[0m\u001b[0;36m15\u001b[0m\u001b[0;34m,\u001b[0m\u001b[0;36m16\u001b[0m\u001b[0;34m,\u001b[0m\u001b[0;36m17\u001b[0m\u001b[0;34m,\u001b[0m\u001b[0;36m18\u001b[0m\u001b[0;34m]\u001b[0m\u001b[0;34m)\u001b[0m\u001b[0;34m\u001b[0m\u001b[0;34m\u001b[0m\u001b[0m\n\u001b[0m",
            "\u001b[0;31mTypeError\u001b[0m: array() takes from 1 to 2 positional arguments but 3 were given"
          ]
        }
      ]
    },
    {
      "cell_type": "code",
      "source": [
        "n2 = np.array([[1,2,3,4,5,6],[7,8,9,10,11,12],[13,14,15,16,17,18]])\n",
        "print(n2)"
      ],
      "metadata": {
        "colab": {
          "base_uri": "https://localhost:8080/"
        },
        "id": "NNudnYxI5bZu",
        "outputId": "b44ca8c6-7edf-4dbf-bc4b-d12bc9d0dfef"
      },
      "execution_count": 9,
      "outputs": [
        {
          "output_type": "stream",
          "name": "stdout",
          "text": [
            "[[ 1  2  3  4  5  6]\n",
            " [ 7  8  9 10 11 12]\n",
            " [13 14 15 16 17 18]]\n"
          ]
        }
      ]
    },
    {
      "cell_type": "markdown",
      "source": [
        "#Datatypes"
      ],
      "metadata": {
        "id": "KkoXk2hKw05U"
      }
    },
    {
      "cell_type": "code",
      "source": [
        "# datatypes\n",
        "# Let numpy choose the datatype\n",
        "x = np.array([1, 2, 3, 4])\n",
        "print(x.dtype)\n",
        "\n",
        "# Let numpy choose the datatype\n",
        "x = np.array([1.0, 2.0, -5.3,6.5])\n",
        "print(x.dtype)\n",
        "\n",
        "# Force a particular datatype, how many bits (how precise)\n",
        "x = np.array([10, 12], dtype=np.int64) # 8 bytes\n",
        "print(x.dtype)\n",
        "\n",
        "x = np.array([31, 22], dtype=np.float32) # 4 bytes\n",
        "print(x.dtype)"
      ],
      "metadata": {
        "colab": {
          "base_uri": "https://localhost:8080/"
        },
        "id": "jJAJ_sb9wz2u",
        "outputId": "09cdcbd8-ae26-4d01-8f33-368b712b7fa4"
      },
      "execution_count": 10,
      "outputs": [
        {
          "output_type": "stream",
          "name": "stdout",
          "text": [
            "int64\n",
            "float64\n",
            "int64\n",
            "float32\n"
          ]
        }
      ]
    },
    {
      "cell_type": "markdown",
      "source": [
        "#Numpy & List"
      ],
      "metadata": {
        "id": "n-X1Lpz98DwW"
      }
    },
    {
      "cell_type": "code",
      "source": [
        "array_0 = np.arange(25)\n",
        "\n",
        "[x * x for x in array_0]"
      ],
      "metadata": {
        "colab": {
          "base_uri": "https://localhost:8080/"
        },
        "id": "1pGMkL3H8H2R",
        "outputId": "0fd05ca9-ea48-4de3-c59a-a60d2daaf086"
      },
      "execution_count": 11,
      "outputs": [
        {
          "output_type": "execute_result",
          "data": {
            "text/plain": [
              "[0,\n",
              " 1,\n",
              " 4,\n",
              " 9,\n",
              " 16,\n",
              " 25,\n",
              " 36,\n",
              " 49,\n",
              " 64,\n",
              " 81,\n",
              " 100,\n",
              " 121,\n",
              " 144,\n",
              " 169,\n",
              " 196,\n",
              " 225,\n",
              " 256,\n",
              " 289,\n",
              " 324,\n",
              " 361,\n",
              " 400,\n",
              " 441,\n",
              " 484,\n",
              " 529,\n",
              " 576]"
            ]
          },
          "metadata": {},
          "execution_count": 11
        }
      ]
    },
    {
      "cell_type": "code",
      "source": [
        "[x * x for x in array_0 if x % 2 == 0]"
      ],
      "metadata": {
        "colab": {
          "base_uri": "https://localhost:8080/"
        },
        "id": "zDFSbe8f8WM-",
        "outputId": "7139993b-59d8-4512-ea8e-2f74902a0c04"
      },
      "execution_count": 12,
      "outputs": [
        {
          "output_type": "execute_result",
          "data": {
            "text/plain": [
              "[0, 4, 16, 36, 64, 100, 144, 196, 256, 324, 400, 484, 576]"
            ]
          },
          "metadata": {},
          "execution_count": 12
        }
      ]
    },
    {
      "cell_type": "code",
      "source": [
        "# speed test lists vs array\n",
        "from timeit import default_timer as timer\n",
        "\n",
        "a = np.random.randn(1000)\n",
        "b = np.random.randn(1000)\n",
        "\n",
        "A = list(a)\n",
        "B = list(b)\n",
        "\n",
        "T = 1000\n",
        "\n",
        "def dot1():\n",
        "    dot = 0\n",
        "    for i in range(len(A)):\n",
        "        dot += A[i]*B[i]\n",
        "    return dot\n",
        "\n",
        "def dot2():\n",
        "    return np.dot(a,b)\n",
        "\n",
        "start = timer()\n",
        "for t in range(T):\n",
        "    dot1()\n",
        "end = timer()\n",
        "t1 = end-start\n",
        "\n",
        "start = timer()\n",
        "for t in range(T):\n",
        "    dot2()\n",
        "end = timer()\n",
        "t2 = end-start\n",
        "\n",
        "print('Time with lists:', t1)\n",
        "print('Time with array:', t2)\n",
        "print('Ratio', t1/t2)"
      ],
      "metadata": {
        "colab": {
          "base_uri": "https://localhost:8080/"
        },
        "id": "DWDLmX5rvXmq",
        "outputId": "0b6e8b47-a685-4631-97eb-d725460e9a8c"
      },
      "execution_count": 13,
      "outputs": [
        {
          "output_type": "stream",
          "name": "stdout",
          "text": [
            "Time with lists: 0.22802281700001004\n",
            "Time with array: 0.0022007309999878544\n",
            "Ratio 103.61230745659896\n"
          ]
        }
      ]
    },
    {
      "cell_type": "code",
      "source": [
        "#numpy vs list (numpy is best)\n",
        "#1. less memory\n",
        "#2. convienient \n",
        "#3. fast\n",
        "\n",
        "import time\n",
        "import sys\n",
        "\n",
        "list_ = range(2000)\n",
        "print(sys.getsizeof(10)*len(list_)) #memory of list\n",
        "numpy_ = np.arange(2000)\n",
        "print(numpy_.size*numpy_.itemsize) #memory of numpy\n"
      ],
      "metadata": {
        "colab": {
          "base_uri": "https://localhost:8080/"
        },
        "id": "bO4QWhCt5ggM",
        "outputId": "39728825-99a1-42dd-860b-d3b1f8672007"
      },
      "execution_count": 14,
      "outputs": [
        {
          "output_type": "stream",
          "name": "stdout",
          "text": [
            "56000\n",
            "16000\n"
          ]
        }
      ]
    },
    {
      "cell_type": "code",
      "source": [
        "size_ = 5000000\n",
        " \n",
        "list1_ = range(size_)\n",
        "list2_ = range(size_)\n",
        "\n",
        "numpy1_ = np.arange(size_)\n",
        "numpy2_ = np.arange(size_)\n",
        "\n",
        "start = time.time()\n",
        "result_list = [(x,y) for x,y in zip(list1_, list2_)]\n",
        "print((time.time()-start)*1000) #sec to milli sec\n",
        "\n",
        "start = time.time()\n",
        "result_numpy = numpy1_ + numpy2_\n",
        "print((time.time()-start)*1000) #sec to milli sec\n"
      ],
      "metadata": {
        "colab": {
          "base_uri": "https://localhost:8080/"
        },
        "id": "yHxId3q75imS",
        "outputId": "14d9e977-3380-4705-a252-305d78bbb591"
      },
      "execution_count": 15,
      "outputs": [
        {
          "output_type": "stream",
          "name": "stdout",
          "text": [
            "1179.9511909484863\n",
            "20.86329460144043\n"
          ]
        }
      ]
    },
    {
      "cell_type": "markdown",
      "source": [
        "#Copy"
      ],
      "metadata": {
        "id": "IaraRfa8xL_X"
      }
    },
    {
      "cell_type": "code",
      "source": [
        "a = np.array([1,2,3,5,6,7,8,9])\n",
        "b = a # only copies reference!\n",
        "b[7] = -2\n",
        "print(a)\n",
        "print('------------------------------------------')\n",
        "a = np.array([5,0,1,2,3,6,8,9])\n",
        "b = a.copy() # actual copy!\n",
        "b[0] = 4\n",
        "print(a)"
      ],
      "metadata": {
        "colab": {
          "base_uri": "https://localhost:8080/"
        },
        "id": "v3qaRNvWxNSm",
        "outputId": "a55f789d-b918-4244-e1a1-766859358c7b"
      },
      "execution_count": 16,
      "outputs": [
        {
          "output_type": "stream",
          "name": "stdout",
          "text": [
            "[ 1  2  3  5  6  7  8 -2]\n",
            "------------------------------------------\n",
            "[5 0 1 2 3 6 8 9]\n"
          ]
        }
      ]
    },
    {
      "cell_type": "markdown",
      "source": [
        "#Array & Lambda "
      ],
      "metadata": {
        "id": "P4wb_nr78hFR"
      }
    },
    {
      "cell_type": "code",
      "source": [
        "list(filter(lambda x: x % 2 == 0, array_0))"
      ],
      "metadata": {
        "colab": {
          "base_uri": "https://localhost:8080/"
        },
        "id": "hKdwYOJi8mhn",
        "outputId": "5c238fa0-0462-4cdf-a8cb-24d2f029fcea"
      },
      "execution_count": 17,
      "outputs": [
        {
          "output_type": "execute_result",
          "data": {
            "text/plain": [
              "[0, 2, 4, 6, 8, 10, 12, 14, 16, 18, 20, 22, 24]"
            ]
          },
          "metadata": {},
          "execution_count": 17
        }
      ]
    },
    {
      "cell_type": "markdown",
      "source": [
        "#Array"
      ],
      "metadata": {
        "id": "OjyTsDNa8AXU"
      }
    },
    {
      "cell_type": "code",
      "source": [
        "#Array basics with random generation\n",
        "array_1 = np.arange(10)\n",
        "print(array_1)"
      ],
      "metadata": {
        "colab": {
          "base_uri": "https://localhost:8080/"
        },
        "id": "xDGw5NJTPvgh",
        "outputId": "22927868-2b9f-43e5-9b47-1a41663382e9"
      },
      "execution_count": 18,
      "outputs": [
        {
          "output_type": "stream",
          "name": "stdout",
          "text": [
            "[0 1 2 3 4 5 6 7 8 9]\n"
          ]
        }
      ]
    },
    {
      "cell_type": "code",
      "source": [
        "?array_1"
      ],
      "metadata": {
        "id": "typEZHq06rvX"
      },
      "execution_count": 19,
      "outputs": []
    },
    {
      "cell_type": "code",
      "source": [
        "array_2 = np.arange(1, 10)\n",
        "print(array_2)"
      ],
      "metadata": {
        "colab": {
          "base_uri": "https://localhost:8080/"
        },
        "id": "v4B87JXCP7T5",
        "outputId": "5be7d9a5-1f0e-4ab3-dc31-606b33a16b60"
      },
      "execution_count": 20,
      "outputs": [
        {
          "output_type": "stream",
          "name": "stdout",
          "text": [
            "[1 2 3 4 5 6 7 8 9]\n"
          ]
        }
      ]
    },
    {
      "cell_type": "code",
      "source": [
        "array_3 = np.arange(1, 10, 3)\n",
        "print(array_3)"
      ],
      "metadata": {
        "colab": {
          "base_uri": "https://localhost:8080/"
        },
        "id": "5KA6Vm2yQBCl",
        "outputId": "d545a091-ed55-4f79-ebf5-00e316a7b7ac"
      },
      "execution_count": 21,
      "outputs": [
        {
          "output_type": "stream",
          "name": "stdout",
          "text": [
            "[1 4 7]\n"
          ]
        }
      ]
    },
    {
      "cell_type": "code",
      "source": [
        "array_4 = np.arange(1, 10, 2.5)\n",
        "print(array_4)"
      ],
      "metadata": {
        "colab": {
          "base_uri": "https://localhost:8080/"
        },
        "id": "EgrCh69TQNM9",
        "outputId": "aa0428bf-f30d-4c4b-d8d8-e02630b2136e"
      },
      "execution_count": 22,
      "outputs": [
        {
          "output_type": "stream",
          "name": "stdout",
          "text": [
            "[1.  3.5 6.  8.5]\n"
          ]
        }
      ]
    },
    {
      "cell_type": "code",
      "source": [
        "array_5 = np.arange(-10, 10, 4)\n",
        "print(array_5)"
      ],
      "metadata": {
        "colab": {
          "base_uri": "https://localhost:8080/"
        },
        "id": "C0OGsygLQXRT",
        "outputId": "91ce1091-e8c5-4b5e-fccf-338f6406b0a5"
      },
      "execution_count": 23,
      "outputs": [
        {
          "output_type": "stream",
          "name": "stdout",
          "text": [
            "[-10  -6  -2   2   6]\n"
          ]
        }
      ]
    },
    {
      "cell_type": "code",
      "source": [
        "#Array Basics from lists\n",
        "list_1 = [2,4,6,8,10]\n",
        "array_6 = np.array(list_1)\n",
        "print(array_6)"
      ],
      "metadata": {
        "colab": {
          "base_uri": "https://localhost:8080/"
        },
        "id": "k5OyXVA-k7OE",
        "outputId": "330cc2b6-1903-48bd-b160-be95499634db"
      },
      "execution_count": 24,
      "outputs": [
        {
          "output_type": "stream",
          "name": "stdout",
          "text": [
            "[ 2  4  6  8 10]\n"
          ]
        }
      ]
    },
    {
      "cell_type": "code",
      "source": [
        "#another way for writing list in array\n",
        "array_7 = np.array([2,4,6,8,10])\n",
        "print(array_7)"
      ],
      "metadata": {
        "colab": {
          "base_uri": "https://localhost:8080/"
        },
        "id": "GJ42FuU4QkVF",
        "outputId": "4da5ae40-aac2-4498-e9b4-043d586f696a"
      },
      "execution_count": 25,
      "outputs": [
        {
          "output_type": "stream",
          "name": "stdout",
          "text": [
            "[ 2  4  6  8 10]\n"
          ]
        }
      ]
    },
    {
      "cell_type": "code",
      "source": [
        "list_2 = [2.0,4,6,8,'Ten']\n",
        "array_8 = np.array(list_2)\n",
        "print(array_8)\n",
        "print(type(array_8))"
      ],
      "metadata": {
        "colab": {
          "base_uri": "https://localhost:8080/"
        },
        "id": "beTDwtYrRRiY",
        "outputId": "4f1acf88-14b4-4ef3-e28a-0a43877158db"
      },
      "execution_count": 26,
      "outputs": [
        {
          "output_type": "stream",
          "name": "stdout",
          "text": [
            "['2.0' '4' '6' '8' 'Ten']\n",
            "<class 'numpy.ndarray'>\n"
          ]
        }
      ]
    },
    {
      "cell_type": "code",
      "source": [
        "array_9 = np.array([[1,3,5,7,9],[2,4,6,8,10], [1,2,3,4,5]])\n",
        "print(array_9)\n",
        "print(type(array_9))"
      ],
      "metadata": {
        "colab": {
          "base_uri": "https://localhost:8080/"
        },
        "id": "nrFABpZTeqWK",
        "outputId": "5644adc4-bd00-4278-a722-a60d0ca00567"
      },
      "execution_count": 27,
      "outputs": [
        {
          "output_type": "stream",
          "name": "stdout",
          "text": [
            "[[ 1  3  5  7  9]\n",
            " [ 2  4  6  8 10]\n",
            " [ 1  2  3  4  5]]\n",
            "<class 'numpy.ndarray'>\n"
          ]
        }
      ]
    },
    {
      "cell_type": "code",
      "source": [
        "array_10 = np.array([[1,3,5,7,9],[2,4,6,8,10], [1,2,3,4,5]], dtype='int32')\n",
        "print(array_10)\n",
        "print(type(array_10))"
      ],
      "metadata": {
        "colab": {
          "base_uri": "https://localhost:8080/"
        },
        "id": "M1Yoz-AzSQP_",
        "outputId": "d6086a2d-3103-4dcc-8989-b6e72d8358f0"
      },
      "execution_count": 28,
      "outputs": [
        {
          "output_type": "stream",
          "name": "stdout",
          "text": [
            "[[ 1  3  5  7  9]\n",
            " [ 2  4  6  8 10]\n",
            " [ 1  2  3  4  5]]\n",
            "<class 'numpy.ndarray'>\n"
          ]
        }
      ]
    },
    {
      "cell_type": "code",
      "source": [
        "#for memory efficeincy\n",
        "print(array_9.nbytes)\n",
        "print(array_10.nbytes)"
      ],
      "metadata": {
        "colab": {
          "base_uri": "https://localhost:8080/"
        },
        "id": "hIml2cwoShZc",
        "outputId": "a8982c18-c1ed-4655-a342-fe09d82f2a03"
      },
      "execution_count": 29,
      "outputs": [
        {
          "output_type": "stream",
          "name": "stdout",
          "text": [
            "120\n",
            "60\n"
          ]
        }
      ]
    },
    {
      "cell_type": "code",
      "source": [
        "#another way of writing 2d array\n",
        "array_11 = np.array((np.arange(0,10,3),(np.arange(10,20,3))))\n",
        "print(array_11)\n",
        "print(array_11.shape)"
      ],
      "metadata": {
        "colab": {
          "base_uri": "https://localhost:8080/"
        },
        "id": "zYCM8RjLTGOf",
        "outputId": "42e3cda5-d78e-49c2-d175-12d3f35c79ea"
      },
      "execution_count": 30,
      "outputs": [
        {
          "output_type": "stream",
          "name": "stdout",
          "text": [
            "[[ 0  3  6  9]\n",
            " [10 13 16 19]]\n",
            "(2, 4)\n"
          ]
        }
      ]
    },
    {
      "cell_type": "code",
      "source": [
        "#dimentionality measure\n",
        "array_1.ndim"
      ],
      "metadata": {
        "colab": {
          "base_uri": "https://localhost:8080/"
        },
        "id": "zu2FnASifCQu",
        "outputId": "6c5544cd-63d3-4797-af8b-4c7ec95d8a89"
      },
      "execution_count": 31,
      "outputs": [
        {
          "output_type": "execute_result",
          "data": {
            "text/plain": [
              "1"
            ]
          },
          "metadata": {},
          "execution_count": 31
        }
      ]
    },
    {
      "cell_type": "code",
      "source": [
        "array_9.ndim"
      ],
      "metadata": {
        "colab": {
          "base_uri": "https://localhost:8080/"
        },
        "id": "YKbeFNORfJdK",
        "outputId": "fb32379e-5ee7-492c-cdae-eb6b3ae2b26d"
      },
      "execution_count": 32,
      "outputs": [
        {
          "output_type": "execute_result",
          "data": {
            "text/plain": [
              "2"
            ]
          },
          "metadata": {},
          "execution_count": 32
        }
      ]
    },
    {
      "cell_type": "code",
      "source": [
        "#shape measure\n",
        "array_1.shape"
      ],
      "metadata": {
        "colab": {
          "base_uri": "https://localhost:8080/"
        },
        "id": "LAMIYjXxfMZY",
        "outputId": "2dd4b97d-7426-4f42-a1d5-f09d34fadce2"
      },
      "execution_count": 33,
      "outputs": [
        {
          "output_type": "execute_result",
          "data": {
            "text/plain": [
              "(10,)"
            ]
          },
          "metadata": {},
          "execution_count": 33
        }
      ]
    },
    {
      "cell_type": "code",
      "source": [
        "array_9.shape"
      ],
      "metadata": {
        "colab": {
          "base_uri": "https://localhost:8080/"
        },
        "id": "J4Nnd1ahfSWu",
        "outputId": "d17999d7-1389-4dab-debe-0041be748e23"
      },
      "execution_count": 34,
      "outputs": [
        {
          "output_type": "execute_result",
          "data": {
            "text/plain": [
              "(3, 5)"
            ]
          },
          "metadata": {},
          "execution_count": 34
        }
      ]
    },
    {
      "cell_type": "code",
      "source": [
        "#getting size of an array\n",
        "array_1.itemsize"
      ],
      "metadata": {
        "colab": {
          "base_uri": "https://localhost:8080/"
        },
        "id": "a6ihtT_Nfsht",
        "outputId": "b4365d81-8230-48a3-8cab-193d215e1720"
      },
      "execution_count": 35,
      "outputs": [
        {
          "output_type": "execute_result",
          "data": {
            "text/plain": [
              "8"
            ]
          },
          "metadata": {},
          "execution_count": 35
        }
      ]
    },
    {
      "cell_type": "code",
      "source": [
        "array_9.itemsize"
      ],
      "metadata": {
        "colab": {
          "base_uri": "https://localhost:8080/"
        },
        "id": "3whwP1d0fz3-",
        "outputId": "372f9f01-1133-443e-8cb7-184bf0052d88"
      },
      "execution_count": 36,
      "outputs": [
        {
          "output_type": "execute_result",
          "data": {
            "text/plain": [
              "8"
            ]
          },
          "metadata": {},
          "execution_count": 36
        }
      ]
    },
    {
      "cell_type": "code",
      "source": [
        "#number of elements\n",
        "array_1.size"
      ],
      "metadata": {
        "colab": {
          "base_uri": "https://localhost:8080/"
        },
        "id": "rEqefWMjf29x",
        "outputId": "001b2472-df0d-4bc9-dd91-74e197e7042a"
      },
      "execution_count": 37,
      "outputs": [
        {
          "output_type": "execute_result",
          "data": {
            "text/plain": [
              "10"
            ]
          },
          "metadata": {},
          "execution_count": 37
        }
      ]
    },
    {
      "cell_type": "code",
      "source": [
        "array_9.size"
      ],
      "metadata": {
        "colab": {
          "base_uri": "https://localhost:8080/"
        },
        "id": "rplrSjCDgMSj",
        "outputId": "57bb5e6c-b8ad-4825-a385-51d0a5d9beed"
      },
      "execution_count": 38,
      "outputs": [
        {
          "output_type": "execute_result",
          "data": {
            "text/plain": [
              "15"
            ]
          },
          "metadata": {},
          "execution_count": 38
        }
      ]
    },
    {
      "cell_type": "code",
      "source": [
        "#total size\n",
        "array_1.nbytes"
      ],
      "metadata": {
        "colab": {
          "base_uri": "https://localhost:8080/"
        },
        "id": "_9S-Iwz9gOjg",
        "outputId": "66d8b630-f620-4e9a-d512-46fcd027cbc8"
      },
      "execution_count": 39,
      "outputs": [
        {
          "output_type": "execute_result",
          "data": {
            "text/plain": [
              "80"
            ]
          },
          "metadata": {},
          "execution_count": 39
        }
      ]
    },
    {
      "cell_type": "code",
      "source": [
        "array_9.nbytes"
      ],
      "metadata": {
        "colab": {
          "base_uri": "https://localhost:8080/"
        },
        "id": "K7EvVzKPgU6m",
        "outputId": "940c7f92-b508-4de2-9c82-5f66a45ee963"
      },
      "execution_count": 40,
      "outputs": [
        {
          "output_type": "execute_result",
          "data": {
            "text/plain": [
              "120"
            ]
          },
          "metadata": {},
          "execution_count": 40
        }
      ]
    },
    {
      "cell_type": "markdown",
      "source": [
        "#Indexing\n"
      ],
      "metadata": {
        "id": "GTvOT7U466c8"
      }
    },
    {
      "cell_type": "code",
      "source": [
        "print(array_1)\n",
        "print('------------------------------------------------------------')\n",
        "print(array_1[2])\n",
        "print('------------------------------------------------------------')\n",
        "print(array_9)\n",
        "print('------------------------------------------------------------')\n",
        "print(array_9[1][1])\n",
        "print('-------------------------------------------------------------')\n",
        "print(array_9[0, 1])\n",
        "print('-------------------------------------------------------------')\n",
        "print(array_9[0, 1:-1])\n",
        "print('-------------------------------------------------------------')\n",
        "print(array_9[0, 1:-1:2])"
      ],
      "metadata": {
        "colab": {
          "base_uri": "https://localhost:8080/"
        },
        "id": "ubBLXdfsgW3r",
        "outputId": "d03a9f3e-2bd2-4b4f-f5dd-d51ac9117a9d"
      },
      "execution_count": 41,
      "outputs": [
        {
          "output_type": "stream",
          "name": "stdout",
          "text": [
            "[0 1 2 3 4 5 6 7 8 9]\n",
            "------------------------------------------------------------\n",
            "2\n",
            "------------------------------------------------------------\n",
            "[[ 1  3  5  7  9]\n",
            " [ 2  4  6  8 10]\n",
            " [ 1  2  3  4  5]]\n",
            "------------------------------------------------------------\n",
            "4\n",
            "-------------------------------------------------------------\n",
            "3\n",
            "-------------------------------------------------------------\n",
            "[3 5 7]\n",
            "-------------------------------------------------------------\n",
            "[3 7]\n"
          ]
        }
      ]
    },
    {
      "cell_type": "code",
      "source": [
        "#row or column\n",
        "print(array_9)\n",
        "print('------------------------------------------------------------')\n",
        "print(array_9[:,1])\n",
        "print('------------------------------------------------------------')\n",
        "print(array_9[1,:])"
      ],
      "metadata": {
        "colab": {
          "base_uri": "https://localhost:8080/"
        },
        "id": "1XeQ2goEtlaK",
        "outputId": "aa671f37-3892-449b-f2dd-a9677ee28f28"
      },
      "execution_count": 42,
      "outputs": [
        {
          "output_type": "stream",
          "name": "stdout",
          "text": [
            "[[ 1  3  5  7  9]\n",
            " [ 2  4  6  8 10]\n",
            " [ 1  2  3  4  5]]\n",
            "------------------------------------------------------------\n",
            "[3 4 2]\n",
            "------------------------------------------------------------\n",
            "[ 2  4  6  8 10]\n"
          ]
        }
      ]
    },
    {
      "cell_type": "markdown",
      "source": [
        "#Slicing\n"
      ],
      "metadata": {
        "id": "5pgTCSLr6_5-"
      }
    },
    {
      "cell_type": "code",
      "source": [
        "print('for 1D')\n",
        "print(array_1)\n",
        "print('------------------------------------------------------------')\n",
        "print(array_1[1:])\n",
        "print('------------------------------------------------------------')\n",
        "print(array_1[-1:])\n",
        "print('------------------------------------------------------------')\n",
        "print(array_1[:])\n",
        "print('------------------------------------------------------------')\n",
        "print('for 2D')\n",
        "print(array_9)\n",
        "print('------------------------------------------------------------')\n",
        "print(array_9[:,1:3])\n",
        "print('------------------------------------------------------------')\n",
        "print(array_9[2,2])\n",
        "print('------------------------------------------------------------')\n",
        "print(array_9[-1,-1])"
      ],
      "metadata": {
        "colab": {
          "base_uri": "https://localhost:8080/"
        },
        "id": "NGqhTye3tlc9",
        "outputId": "83be9d7f-9113-4b80-a40d-1dc9add7def3"
      },
      "execution_count": 43,
      "outputs": [
        {
          "output_type": "stream",
          "name": "stdout",
          "text": [
            "for 1D\n",
            "[0 1 2 3 4 5 6 7 8 9]\n",
            "------------------------------------------------------------\n",
            "[1 2 3 4 5 6 7 8 9]\n",
            "------------------------------------------------------------\n",
            "[9]\n",
            "------------------------------------------------------------\n",
            "[0 1 2 3 4 5 6 7 8 9]\n",
            "------------------------------------------------------------\n",
            "for 2D\n",
            "[[ 1  3  5  7  9]\n",
            " [ 2  4  6  8 10]\n",
            " [ 1  2  3  4  5]]\n",
            "------------------------------------------------------------\n",
            "[[3 5]\n",
            " [4 6]\n",
            " [2 3]]\n",
            "------------------------------------------------------------\n",
            "3\n",
            "------------------------------------------------------------\n",
            "5\n"
          ]
        }
      ]
    },
    {
      "cell_type": "markdown",
      "source": [
        "#Some basic math operations\n"
      ],
      "metadata": {
        "id": "uOjpqC-e7Gjv"
      }
    },
    {
      "cell_type": "code",
      "source": [
        "add_operation = array_1 + array_1\n",
        "print(add_operation)\n",
        "print('--------------------------------------------')\n",
        "sub_operation = array_1 - array_1\n",
        "print(sub_operation)\n",
        "print('--------------------------------------------')\n",
        "mul_operation = array_1 * array_1\n",
        "print(mul_operation)"
      ],
      "metadata": {
        "colab": {
          "base_uri": "https://localhost:8080/"
        },
        "id": "u8CSbLv_tlfg",
        "outputId": "ff4b5e5f-9c5a-44d6-bd81-a57c08b5d970"
      },
      "execution_count": 44,
      "outputs": [
        {
          "output_type": "stream",
          "name": "stdout",
          "text": [
            "[ 0  2  4  6  8 10 12 14 16 18]\n",
            "--------------------------------------------\n",
            "[0 0 0 0 0 0 0 0 0 0]\n",
            "--------------------------------------------\n",
            "[ 0  1  4  9 16 25 36 49 64 81]\n"
          ]
        }
      ]
    },
    {
      "cell_type": "markdown",
      "source": [
        "#comparative operations\n"
      ],
      "metadata": {
        "id": "hamzi0ah7K-O"
      }
    },
    {
      "cell_type": "code",
      "source": [
        "compare_1 = array_1 > 2\n",
        "print(compare_1)\n",
        "print(array_1[compare_1])"
      ],
      "metadata": {
        "colab": {
          "base_uri": "https://localhost:8080/"
        },
        "id": "bR9W9OpotliE",
        "outputId": "f0c72af2-9687-4471-bdfc-1c6e06dabac3"
      },
      "execution_count": 45,
      "outputs": [
        {
          "output_type": "stream",
          "name": "stdout",
          "text": [
            "[False False False  True  True  True  True  True  True  True]\n",
            "[3 4 5 6 7 8 9]\n"
          ]
        }
      ]
    },
    {
      "cell_type": "markdown",
      "source": [
        "#some arthimatic operations\n"
      ],
      "metadata": {
        "id": "dhfvFJPG7NgH"
      }
    },
    {
      "cell_type": "code",
      "source": [
        "np.add(array_1, array_1)"
      ],
      "metadata": {
        "colab": {
          "base_uri": "https://localhost:8080/"
        },
        "id": "y_hE7j8AtllA",
        "outputId": "d1c5dc82-adfa-4231-8afe-df312ee9a927"
      },
      "execution_count": 46,
      "outputs": [
        {
          "output_type": "execute_result",
          "data": {
            "text/plain": [
              "array([ 0,  2,  4,  6,  8, 10, 12, 14, 16, 18])"
            ]
          },
          "metadata": {},
          "execution_count": 46
        }
      ]
    },
    {
      "cell_type": "code",
      "source": [
        "np.subtract(array_1, array_1)"
      ],
      "metadata": {
        "colab": {
          "base_uri": "https://localhost:8080/"
        },
        "id": "qO6BiaGNtlnb",
        "outputId": "76006615-56f4-44f0-9263-9dd2bc26ad00"
      },
      "execution_count": 47,
      "outputs": [
        {
          "output_type": "execute_result",
          "data": {
            "text/plain": [
              "array([0, 0, 0, 0, 0, 0, 0, 0, 0, 0])"
            ]
          },
          "metadata": {},
          "execution_count": 47
        }
      ]
    },
    {
      "cell_type": "code",
      "source": [
        "np.negative(array_1)"
      ],
      "metadata": {
        "colab": {
          "base_uri": "https://localhost:8080/"
        },
        "id": "qJ9JrhtntlqT",
        "outputId": "b08ffdf8-3dec-4404-ec05-52faca5be425"
      },
      "execution_count": 48,
      "outputs": [
        {
          "output_type": "execute_result",
          "data": {
            "text/plain": [
              "array([ 0, -1, -2, -3, -4, -5, -6, -7, -8, -9])"
            ]
          },
          "metadata": {},
          "execution_count": 48
        }
      ]
    },
    {
      "cell_type": "code",
      "source": [
        "np.multiply(array_1, array_1)"
      ],
      "metadata": {
        "colab": {
          "base_uri": "https://localhost:8080/"
        },
        "id": "uZJlYvnNtls6",
        "outputId": "a4db14f5-0c55-4d0b-bfc9-a69b34a8014b"
      },
      "execution_count": 49,
      "outputs": [
        {
          "output_type": "execute_result",
          "data": {
            "text/plain": [
              "array([ 0,  1,  4,  9, 16, 25, 36, 49, 64, 81])"
            ]
          },
          "metadata": {},
          "execution_count": 49
        }
      ]
    },
    {
      "cell_type": "code",
      "source": [
        "np.divide(array_1, array_1)"
      ],
      "metadata": {
        "colab": {
          "base_uri": "https://localhost:8080/"
        },
        "id": "TOKKG1uqtlvx",
        "outputId": "e4e3f460-d12d-44f2-b2e2-4387e2546e6a"
      },
      "execution_count": 50,
      "outputs": [
        {
          "output_type": "stream",
          "name": "stderr",
          "text": [
            "/usr/local/lib/python3.7/dist-packages/ipykernel_launcher.py:1: RuntimeWarning: invalid value encountered in true_divide\n",
            "  \"\"\"Entry point for launching an IPython kernel.\n"
          ]
        },
        {
          "output_type": "execute_result",
          "data": {
            "text/plain": [
              "array([nan,  1.,  1.,  1.,  1.,  1.,  1.,  1.,  1.,  1.])"
            ]
          },
          "metadata": {},
          "execution_count": 50
        }
      ]
    },
    {
      "cell_type": "code",
      "source": [
        "np.floor_divide(array_1, array_1)"
      ],
      "metadata": {
        "colab": {
          "base_uri": "https://localhost:8080/"
        },
        "id": "ovwqfGVwtlyr",
        "outputId": "adabb0d3-2a20-496e-d8d2-72896e462952"
      },
      "execution_count": 51,
      "outputs": [
        {
          "output_type": "stream",
          "name": "stderr",
          "text": [
            "/usr/local/lib/python3.7/dist-packages/ipykernel_launcher.py:1: RuntimeWarning: divide by zero encountered in floor_divide\n",
            "  \"\"\"Entry point for launching an IPython kernel.\n"
          ]
        },
        {
          "output_type": "execute_result",
          "data": {
            "text/plain": [
              "array([0, 1, 1, 1, 1, 1, 1, 1, 1, 1])"
            ]
          },
          "metadata": {},
          "execution_count": 51
        }
      ]
    },
    {
      "cell_type": "code",
      "source": [
        "np.power(array_1, array_1)"
      ],
      "metadata": {
        "colab": {
          "base_uri": "https://localhost:8080/"
        },
        "id": "DhcJWqLctl1R",
        "outputId": "c82df26d-8682-40ea-84f5-d75b6c22092a"
      },
      "execution_count": 52,
      "outputs": [
        {
          "output_type": "execute_result",
          "data": {
            "text/plain": [
              "array([        1,         1,         4,        27,       256,      3125,\n",
              "           46656,    823543,  16777216, 387420489])"
            ]
          },
          "metadata": {},
          "execution_count": 52
        }
      ]
    },
    {
      "cell_type": "markdown",
      "source": [
        "#concatenation\n"
      ],
      "metadata": {
        "id": "e7FCazwz7QlB"
      }
    },
    {
      "cell_type": "code",
      "source": [
        "concat_1 = np.concatenate([array_1, array_1])\n",
        "print(concat_1)"
      ],
      "metadata": {
        "colab": {
          "base_uri": "https://localhost:8080/"
        },
        "id": "3euE6vwNtl4J",
        "outputId": "17df8d37-34fb-4acb-a15e-0c850ddd5edb"
      },
      "execution_count": 53,
      "outputs": [
        {
          "output_type": "stream",
          "name": "stdout",
          "text": [
            "[0 1 2 3 4 5 6 7 8 9 0 1 2 3 4 5 6 7 8 9]\n"
          ]
        }
      ]
    },
    {
      "cell_type": "code",
      "source": [
        "concat_2 = np.concatenate((array_9, array_10))\n",
        "print(concat_2)"
      ],
      "metadata": {
        "colab": {
          "base_uri": "https://localhost:8080/"
        },
        "id": "dLSWcvlmtl7B",
        "outputId": "3c8d485d-610b-4f22-feff-a5ddeb4c4753"
      },
      "execution_count": 54,
      "outputs": [
        {
          "output_type": "stream",
          "name": "stdout",
          "text": [
            "[[ 1  3  5  7  9]\n",
            " [ 2  4  6  8 10]\n",
            " [ 1  2  3  4  5]\n",
            " [ 1  3  5  7  9]\n",
            " [ 2  4  6  8 10]\n",
            " [ 1  2  3  4  5]]\n"
          ]
        }
      ]
    },
    {
      "cell_type": "code",
      "source": [
        "concat_3 = np.concatenate((array_9, array_10), axis = 1)\n",
        "print(concat_3)"
      ],
      "metadata": {
        "colab": {
          "base_uri": "https://localhost:8080/"
        },
        "id": "MSLrezM7tl9z",
        "outputId": "4ce7d55c-fc2b-4e3a-b32a-edea478f3039"
      },
      "execution_count": 55,
      "outputs": [
        {
          "output_type": "stream",
          "name": "stdout",
          "text": [
            "[[ 1  3  5  7  9  1  3  5  7  9]\n",
            " [ 2  4  6  8 10  2  4  6  8 10]\n",
            " [ 1  2  3  4  5  1  2  3  4  5]]\n"
          ]
        }
      ]
    },
    {
      "cell_type": "code",
      "source": [
        "concat_4 = np.concatenate((array_9, array_10), axis = None)\n",
        "print(concat_4)"
      ],
      "metadata": {
        "colab": {
          "base_uri": "https://localhost:8080/"
        },
        "id": "JSKGtEkktmAk",
        "outputId": "abaa1448-5acf-495f-b207-ed19f398c6a3"
      },
      "execution_count": 56,
      "outputs": [
        {
          "output_type": "stream",
          "name": "stdout",
          "text": [
            "[ 1  3  5  7  9  2  4  6  8 10  1  2  3  4  5  1  3  5  7  9  2  4  6  8\n",
            " 10  1  2  3  4  5]\n"
          ]
        }
      ]
    },
    {
      "cell_type": "markdown",
      "source": [
        "#broadcasting"
      ],
      "metadata": {
        "id": "i90rZcmmwkpP"
      }
    },
    {
      "cell_type": "code",
      "source": [
        "# broadcasting\n",
        "# Broadcasting is a powerful mechanism that allows numpy to work with arrays of \n",
        "# different shapes when performing arithmetic operations.\n",
        "x = np.array([[1,2,3], [4,5,6], [7,8,9], [10, 11, 12]])\n",
        "v = np.array([1, 0, 1])\n",
        "y = x + v  # Add v to each row of x using broadcasting\n",
        "print(y) "
      ],
      "metadata": {
        "colab": {
          "base_uri": "https://localhost:8080/"
        },
        "id": "4_0Im6Z8wmkC",
        "outputId": "af4bf9a6-739b-47bc-d461-637abb9dd40c"
      },
      "execution_count": 57,
      "outputs": [
        {
          "output_type": "stream",
          "name": "stdout",
          "text": [
            "[[ 2  2  4]\n",
            " [ 5  5  7]\n",
            " [ 8  8 10]\n",
            " [11 11 13]]\n"
          ]
        }
      ]
    },
    {
      "cell_type": "markdown",
      "source": [
        "#matrix \n"
      ],
      "metadata": {
        "id": "n0SE1HRJ7To-"
      }
    },
    {
      "cell_type": "code",
      "source": [
        "array_12 = np.array([[45, 26, 75],\n",
        "                    [30, 54, 32],\n",
        "                    [16, 45, 57]])\n",
        "print(array_12)\n",
        "\n",
        "print('calculating the determinant of matrix')\n",
        "det = np.linalg.det(array_12)\n",
        "print(int(det))\n",
        "print('----------------------------------------------------------------')\n",
        "print('calculating the eigen values and vectors of matrix')\n",
        "evalue, evect = np.linalg.eig(array_12)\n",
        "print('eigen value = ', evalue)\n",
        "print('eigen vector = ', evect)\n",
        "print('----------------------------------------------------------------')\n",
        "print('calculating diagonal of matrix')\n",
        "print(np.diag(array_12))\n",
        "print('----------------------------------------------------------------')\n",
        "print('cal inverse of matrix')\n",
        "print(np.linalg.inv(array_12))"
      ],
      "metadata": {
        "colab": {
          "base_uri": "https://localhost:8080/"
        },
        "id": "376-mDYqtmFa",
        "outputId": "76a58b7d-03f7-43c2-a169-3d633ee2453e"
      },
      "execution_count": 58,
      "outputs": [
        {
          "output_type": "stream",
          "name": "stdout",
          "text": [
            "[[45 26 75]\n",
            " [30 54 32]\n",
            " [16 45 57]]\n",
            "calculating the determinant of matrix\n",
            "79012\n",
            "----------------------------------------------------------------\n",
            "calculating the eigen values and vectors of matrix\n",
            "eigen value =  [123.50544031 +0.j          16.24727984+19.38481353j\n",
            "  16.24727984-19.38481353j]\n",
            "eigen vector =  [[ 0.67128617+0.j          0.78443623+0.j          0.78443623-0.j        ]\n",
            " [ 0.52883875+0.j         -0.22554917-0.40736818j -0.22554917+0.40736818j]\n",
            " [ 0.51933078+0.j         -0.22253863+0.34396963j -0.22253863-0.34396963j]]\n",
            "----------------------------------------------------------------\n",
            "calculating diagonal of matrix\n",
            "[45 54 57]\n",
            "----------------------------------------------------------------\n",
            "cal inverse of matrix\n",
            "[[ 0.02073103  0.02395839 -0.04072799]\n",
            " [-0.01516225  0.01727586  0.01025161]\n",
            " [ 0.00615096 -0.020364    0.0208829 ]]\n"
          ]
        }
      ]
    },
    {
      "cell_type": "code",
      "source": [
        "print('cumulative sum')\n",
        "cs = np.cumsum(array_12) \n",
        "print(cs)\n",
        "print('----------------------------------------------------------------')\n",
        "print('cumulative sum for column')\n",
        "cs_c = np.cumsum(array_12, axis=1) \n",
        "print(cs_c)\n",
        "print('----------------------------------------------------------------')\n",
        "print('cumulative sum for row')\n",
        "cs_r = np.cumsum(array_12, axis=0) \n",
        "print(cs_r)"
      ],
      "metadata": {
        "colab": {
          "base_uri": "https://localhost:8080/"
        },
        "id": "vfIUZ6TDtmH9",
        "outputId": "27488c11-557b-4333-c84e-7c79ee4068a2"
      },
      "execution_count": 59,
      "outputs": [
        {
          "output_type": "stream",
          "name": "stdout",
          "text": [
            "cumulative sum\n",
            "[ 45  71 146 176 230 262 278 323 380]\n",
            "----------------------------------------------------------------\n",
            "cumulative sum for column\n",
            "[[ 45  71 146]\n",
            " [ 30  84 116]\n",
            " [ 16  61 118]]\n",
            "----------------------------------------------------------------\n",
            "cumulative sum for row\n",
            "[[ 45  26  75]\n",
            " [ 75  80 107]\n",
            " [ 91 125 164]]\n"
          ]
        }
      ]
    },
    {
      "cell_type": "code",
      "source": [
        "print('cumulative product')\n",
        "cp = np.cumprod(array_12) \n",
        "print(cp)\n",
        "print('----------------------------------------------------------------')\n",
        "print('cumulative product for column')\n",
        "cp_c = np.cumprod(array_12, axis=1) \n",
        "print(cp_c)\n",
        "print('----------------------------------------------------------------')\n",
        "print('cumulative product for row')\n",
        "cp_r = np.cumprod(array_12, axis=0) \n",
        "print(cp_r)"
      ],
      "metadata": {
        "colab": {
          "base_uri": "https://localhost:8080/"
        },
        "id": "qW5HFVgOtmKs",
        "outputId": "7a2d6556-3124-4191-b672-3023e61936db"
      },
      "execution_count": 60,
      "outputs": [
        {
          "output_type": "stream",
          "name": "stdout",
          "text": [
            "cumulative product\n",
            "[             45            1170           87750         2632500\n",
            "       142155000      4548960000     72783360000   3275251200000\n",
            " 186689318400000]\n",
            "----------------------------------------------------------------\n",
            "cumulative product for column\n",
            "[[   45  1170 87750]\n",
            " [   30  1620 51840]\n",
            " [   16   720 41040]]\n",
            "----------------------------------------------------------------\n",
            "cumulative product for row\n",
            "[[    45     26     75]\n",
            " [  1350   1404   2400]\n",
            " [ 21600  63180 136800]]\n"
          ]
        }
      ]
    },
    {
      "cell_type": "code",
      "source": [
        "print('mult of matrix')\n",
        "mat1 = np.array([[1, 2],[3, 4]])\n",
        "mat2 = np.array([[8, 7],[6, 5]])\n",
        "\n",
        "mul_ = np.matmul(mat1, mat2)\n",
        "print(mul_)"
      ],
      "metadata": {
        "colab": {
          "base_uri": "https://localhost:8080/"
        },
        "id": "nUZdDXbptmNN",
        "outputId": "c0c25a1f-9251-498d-c8b0-b402e04ae830"
      },
      "execution_count": 61,
      "outputs": [
        {
          "output_type": "stream",
          "name": "stdout",
          "text": [
            "mult of matrix\n",
            "[[20 17]\n",
            " [48 41]]\n"
          ]
        }
      ]
    },
    {
      "cell_type": "markdown",
      "source": [
        "#linear equation"
      ],
      "metadata": {
        "id": "lll3A0bjx2bc"
      }
    },
    {
      "cell_type": "code",
      "source": [
        "# solve linear system\n",
        "# x1+x2=2200\n",
        "# 1.5 x1 + 4 x2 = 5050\n",
        "# 2 equations and 2 unknowns\n",
        "A = np.array([[1, 1], [1.5, 4]])\n",
        "b = np.array([2200,5050])\n",
        "\n",
        "# Ax = b <=> x = A-1 b\n",
        "\n",
        "x = np.linalg.solve(A,b) # good\n",
        "print(x)"
      ],
      "metadata": {
        "colab": {
          "base_uri": "https://localhost:8080/"
        },
        "id": "0AFCg5kNx2CT",
        "outputId": "9e3e6243-6691-4d12-83f0-6bb68aa1a6e7"
      },
      "execution_count": 62,
      "outputs": [
        {
          "output_type": "stream",
          "name": "stdout",
          "text": [
            "[1500.  700.]\n"
          ]
        }
      ]
    },
    {
      "cell_type": "markdown",
      "source": [
        "#Random module"
      ],
      "metadata": {
        "id": "pEKqdLV4JGyE"
      }
    },
    {
      "cell_type": "code",
      "source": [
        "print('-------uniform distribution--------')\n",
        "rm1 = np.random.rand()\n",
        "print(rm1)\n",
        "print('-----------------------------------------')\n",
        "rm2 = np.random.rand(5)\n",
        "print(rm2)\n",
        "print('-----------------------------------------')\n",
        "rm3 = np.random.rand(5,3,3)\n",
        "print(rm3)"
      ],
      "metadata": {
        "colab": {
          "base_uri": "https://localhost:8080/"
        },
        "id": "SlWn1H2KJJE8",
        "outputId": "50a65dde-d4bc-41c2-c698-c1a67ded5e89"
      },
      "execution_count": 63,
      "outputs": [
        {
          "output_type": "stream",
          "name": "stdout",
          "text": [
            "-------uniform distribution--------\n",
            "0.10989350202704429\n",
            "-----------------------------------------\n",
            "[0.64244421 0.85670994 0.42382943 0.97266207 0.55004396]\n",
            "-----------------------------------------\n",
            "[[[0.90560968 0.79082605 0.06035982]\n",
            "  [0.65311752 0.51877487 0.63499232]\n",
            "  [0.71163668 0.73769384 0.60304111]]\n",
            "\n",
            " [[0.05237428 0.82770773 0.39597617]\n",
            "  [0.96201876 0.1602197  0.80738871]\n",
            "  [0.54936885 0.67707337 0.0782783 ]]\n",
            "\n",
            " [[0.48706039 0.84328177 0.90570827]\n",
            "  [0.79685128 0.34448096 0.87285557]\n",
            "  [0.55536035 0.5118897  0.10253442]]\n",
            "\n",
            " [[0.11503853 0.44295481 0.00552242]\n",
            "  [0.84930054 0.16760485 0.72775122]\n",
            "  [0.33794195 0.4405337  0.18991237]]\n",
            "\n",
            " [[0.61607665 0.65498137 0.63884859]\n",
            "  [0.93665884 0.51551396 0.64299715]\n",
            "  [0.19175709 0.93971864 0.91123165]]]\n"
          ]
        }
      ]
    },
    {
      "cell_type": "code",
      "source": [
        "print('-------normal standard distribution--------')\n",
        "rm4 = np.random.randn()\n",
        "print(rm4)\n",
        "print('-----------------------------------------')\n",
        "rm5 = np.random.rand(3,3)\n",
        "print(rm5)\n",
        "print('-----------------------------------------')\n",
        "rm6 = np.random.rand(5,3,3)\n",
        "print(rm6)"
      ],
      "metadata": {
        "colab": {
          "base_uri": "https://localhost:8080/"
        },
        "id": "ESjT3js-JJMp",
        "outputId": "734d6ca9-8c9a-404e-dcfb-cbb4bd440df5"
      },
      "execution_count": 64,
      "outputs": [
        {
          "output_type": "stream",
          "name": "stdout",
          "text": [
            "-------normal standard distribution--------\n",
            "1.0226186979147338\n",
            "-----------------------------------------\n",
            "[[0.63581427 0.75745105 0.37610042]\n",
            " [0.98196912 0.6830343  0.71358992]\n",
            " [0.07151286 0.77251461 0.79810668]]\n",
            "-----------------------------------------\n",
            "[[[0.06367457 0.51225157 0.95511594]\n",
            "  [0.04600699 0.01191848 0.35050284]\n",
            "  [0.01101339 0.17392373 0.58979013]]\n",
            "\n",
            " [[0.29067434 0.62124399 0.47092825]\n",
            "  [0.76048815 0.18238564 0.09966211]\n",
            "  [0.33630666 0.43894208 0.09552062]]\n",
            "\n",
            " [[0.74887844 0.70960915 0.83311202]\n",
            "  [0.3684537  0.67632565 0.92367698]\n",
            "  [0.95212936 0.19927431 0.08342353]]\n",
            "\n",
            " [[0.97523783 0.81302459 0.07867781]\n",
            "  [0.88870874 0.05158094 0.1753209 ]\n",
            "  [0.3415681  0.795461   0.90890736]]\n",
            "\n",
            " [[0.27255906 0.07882803 0.87129974]\n",
            "  [0.8991862  0.55258014 0.47829867]\n",
            "  [0.40050369 0.18893439 0.31692212]]]\n"
          ]
        }
      ]
    },
    {
      "cell_type": "code",
      "source": [
        "rm7 = np.random.randint(10)\n",
        "print(rm7)\n",
        "print('-----------------------------------------')\n",
        "rm8 = np.random.randint(low=3, high=11, size=10)\n",
        "print(rm8)\n",
        "print('-----------------------------------------')\n",
        "rm9 = np.random.randint(2, size=10)\n",
        "print(rm9)"
      ],
      "metadata": {
        "colab": {
          "base_uri": "https://localhost:8080/"
        },
        "id": "RlPazy_QNEEV",
        "outputId": "7c031e69-1a03-4e97-d4c4-54a5fe3c4587"
      },
      "execution_count": 65,
      "outputs": [
        {
          "output_type": "stream",
          "name": "stdout",
          "text": [
            "6\n",
            "-----------------------------------------\n",
            "[ 4  8 10 10  4  8  8  3  8  4]\n",
            "-----------------------------------------\n",
            "[1 0 1 1 1 1 0 0 0 1]\n"
          ]
        }
      ]
    },
    {
      "cell_type": "code",
      "source": [
        "print('----------continuous uniform distribution between 0 and 1----------')\n",
        "rm10 = np.random.random_sample(size=10)\n",
        "print(rm10)\n",
        "print('-----------------------------------------')\n",
        "rm11= np.random.sample(size=10)\n",
        "print(rm11)\n",
        "print('-----------------------------------------')\n",
        "rm12= np.random.ranf(size=10)\n",
        "print(rm12)"
      ],
      "metadata": {
        "colab": {
          "base_uri": "https://localhost:8080/"
        },
        "id": "dc1xlHjeNwxE",
        "outputId": "e4dafdd2-c1de-49f1-af03-fddbfa2fbcff"
      },
      "execution_count": 66,
      "outputs": [
        {
          "output_type": "stream",
          "name": "stdout",
          "text": [
            "----------continuous uniform distribution between 0 and 1----------\n",
            "[0.54878687 0.14683268 0.55786586 0.3342714  0.76850372 0.80818727\n",
            " 0.87749807 0.11730734 0.79286106 0.80564316]\n",
            "-----------------------------------------\n",
            "[0.04895044 0.98628754 0.83186555 0.82329816 0.40743014 0.21571859\n",
            " 0.37841089 0.7215728  0.01811409 0.27816484]\n",
            "-----------------------------------------\n",
            "[0.91231151 0.65362645 0.71825807 0.9428106  0.06728636 0.04620231\n",
            " 0.07493988 0.97906301 0.12643087 0.46082432]\n"
          ]
        }
      ]
    },
    {
      "cell_type": "markdown",
      "source": [
        "#Probability distribution"
      ],
      "metadata": {
        "id": "Q4IcMuTU4kzR"
      }
    },
    {
      "cell_type": "code",
      "source": [
        "mean_ = 2\n",
        "std_dev_ = 0.2\n",
        "norm_dist = np.random.normal(mean_, std_dev_, 1000)\n",
        "\n",
        "import matplotlib.pyplot as plt\n",
        "import seaborn as sns\n",
        "\n",
        "sns.histplot(norm_dist, kde=True);"
      ],
      "metadata": {
        "colab": {
          "base_uri": "https://localhost:8080/",
          "height": 265
        },
        "id": "zhLOBmxi4cXu",
        "outputId": "26345993-c027-41c5-af56-421771dafcec"
      },
      "execution_count": 67,
      "outputs": [
        {
          "output_type": "display_data",
          "data": {
            "text/plain": [
              "<Figure size 432x288 with 1 Axes>"
            ],
            "image/png": "[encoded data removed]"
          },
          "metadata": {
            "needs_background": "light"
          }
        }
      ]
    },
    {
      "cell_type": "code",
      "source": [
        "no_ = 2\n",
        "succ = 0.5\n",
        "bino_dist = np.random.binomial(no_, succ, size=1000)\n",
        "print(bino_dist)\n",
        "sns.histplot(bino_dist, kde=True)"
      ],
      "metadata": {
        "colab": {
          "base_uri": "https://localhost:8080/",
          "height": 768
        },
        "id": "lEvepw3d5CKG",
        "outputId": "1507e360-e320-4a65-b2e6-907fcdea0eee"
      },
      "execution_count": 68,
      "outputs": [
        {
          "output_type": "stream",
          "name": "stdout",
          "text": [
            "[1 0 2 1 1 2 1 1 1 1 2 1 2 1 1 1 0 1 1 2 2 1 1 2 2 0 0 1 1 2 1 1 1 2 2 0 1\n",
            " 2 0 2 0 0 0 1 1 0 1 1 0 1 0 2 0 0 1 1 1 0 0 1 1 1 0 1 2 1 2 0 0 0 2 1 1 1\n",
            " 1 1 1 2 0 0 1 0 1 0 1 2 0 1 1 0 1 1 1 1 2 0 1 2 2 2 0 2 2 0 2 0 1 1 1 2 0\n",
            " 0 1 0 2 1 2 2 0 2 2 0 1 1 1 1 0 0 2 0 1 2 1 1 2 0 0 0 1 2 1 1 2 1 1 1 1 0\n",
            " 1 2 0 1 1 1 1 0 0 0 2 0 1 1 0 2 1 2 0 1 1 1 1 1 0 0 1 0 0 1 0 1 0 1 2 1 2\n",
            " 1 2 1 1 1 1 1 1 1 1 1 2 1 1 1 1 2 2 2 1 0 0 1 1 2 2 2 1 1 0 2 0 1 1 1 0 0\n",
            " 1 0 1 1 2 1 2 0 0 1 1 2 1 1 1 1 1 1 0 1 1 1 2 1 1 2 0 2 2 1 1 1 1 1 1 2 2\n",
            " 0 1 1 0 1 0 1 1 2 1 0 1 1 1 1 1 1 2 2 0 2 0 1 1 1 1 0 1 0 1 0 1 0 1 2 1 2\n",
            " 1 1 1 2 2 1 0 0 2 0 0 1 2 1 1 0 1 1 0 1 1 0 1 1 1 0 0 0 0 0 2 2 0 0 1 0 1\n",
            " 1 1 1 2 1 1 1 1 2 1 1 1 2 0 0 1 1 1 1 1 1 1 0 2 1 0 1 1 1 2 1 1 1 1 1 0 1\n",
            " 2 1 0 1 2 2 1 1 1 1 1 1 2 1 1 0 1 1 1 0 0 1 1 1 0 0 0 1 0 1 1 1 1 1 2 0 2\n",
            " 0 0 1 1 0 1 0 2 0 1 0 1 1 2 2 2 2 0 2 2 0 1 1 0 1 0 2 1 2 1 2 2 0 0 1 1 1\n",
            " 1 1 1 1 1 1 1 1 1 0 0 0 2 1 1 1 1 1 2 0 1 0 0 2 2 1 0 0 0 2 0 2 2 1 0 2 1\n",
            " 1 2 1 0 2 1 1 1 0 2 2 1 2 1 1 1 1 2 2 1 1 1 0 1 1 1 1 1 1 2 0 1 1 2 2 0 0\n",
            " 1 2 2 0 1 1 1 2 1 1 1 0 0 1 2 1 2 1 1 1 1 1 1 1 0 0 1 0 2 1 1 2 2 1 2 0 0\n",
            " 1 2 2 2 2 0 1 1 2 2 1 0 0 1 2 1 1 1 2 1 1 1 1 2 2 2 1 0 2 1 1 1 1 1 1 2 2\n",
            " 2 1 0 1 1 0 0 1 1 0 1 1 0 2 2 1 1 0 1 1 1 2 1 2 2 2 0 2 2 1 1 2 1 2 0 1 0\n",
            " 1 2 1 1 0 1 2 0 0 2 1 1 0 2 1 2 0 0 1 0 1 2 2 0 1 1 2 0 2 1 1 1 1 1 0 0 0\n",
            " 1 0 1 2 1 1 1 2 1 1 0 1 1 1 1 0 1 1 1 1 0 0 0 1 0 1 2 1 1 0 1 1 0 2 1 0 2\n",
            " 1 1 1 0 1 0 0 2 0 2 2 0 0 1 1 1 1 2 0 1 1 1 1 0 2 2 2 2 1 1 0 1 2 1 1 1 2\n",
            " 1 2 2 0 2 1 0 0 1 1 1 0 0 0 0 1 0 2 1 1 0 1 2 2 2 1 2 1 0 2 1 2 0 1 1 0 2\n",
            " 2 2 1 0 2 0 1 2 1 1 1 2 0 2 1 1 2 1 1 1 0 1 1 2 1 2 1 1 2 2 1 2 0 0 1 1 1\n",
            " 2 1 2 0 1 0 2 2 2 0 2 0 1 0 1 2 1 0 1 2 2 2 1 0 1 1 1 2 2 0 1 0 2 1 1 1 0\n",
            " 2 2 2 2 2 1 1 1 1 1 1 1 2 1 2 2 1 0 2 2 2 1 2 1 1 2 1 2 2 1 2 1 2 1 1 1 1\n",
            " 1 1 2 1 2 1 0 0 1 2 1 1 1 0 1 1 1 2 1 0 0 1 1 2 1 1 0 2 0 0 1 2 1 2 1 1 1\n",
            " 0 2 1 0 2 0 1 2 1 1 1 0 2 1 1 1 1 1 2 1 0 1 0 0 1 0 2 2 1 1 2 1 1 0 0 1 0\n",
            " 1 1 1 1 0 1 0 0 2 0 2 2 0 2 1 1 0 0 1 0 2 1 1 0 1 2 0 2 1 1 2 1 1 1 2 2 1\n",
            " 2]\n"
          ]
        },
        {
          "output_type": "execute_result",
          "data": {
            "text/plain": [
              "<matplotlib.axes._subplots.AxesSubplot at 0x7f9f0e104e50>"
            ]
          },
          "metadata": {},
          "execution_count": 68
        },
        {
          "output_type": "display_data",
          "data": {
            "text/plain": [
              "<Figure size 432x288 with 1 Axes>"
            ],
            "image/png": "[encoded data removed]"
          },
          "metadata": {
            "needs_background": "light"
          }
        }
      ]
    },
    {
      "cell_type": "code",
      "source": [
        "unif_dist = np.random.uniform(size=200)\n",
        "sns.histplot(unif_dist)"
      ],
      "metadata": {
        "colab": {
          "base_uri": "https://localhost:8080/",
          "height": 282
        },
        "id": "CHEBxkig5Cbn",
        "outputId": "4472fbdc-27a7-4d0c-e842-e1d3f10b58d0"
      },
      "execution_count": 69,
      "outputs": [
        {
          "output_type": "execute_result",
          "data": {
            "text/plain": [
              "<matplotlib.axes._subplots.AxesSubplot at 0x7f9f0e0ae350>"
            ]
          },
          "metadata": {},
          "execution_count": 69
        },
        {
          "output_type": "display_data",
          "data": {
            "text/plain": [
              "<Figure size 432x288 with 1 Axes>"
            ],
            "image/png": "[encoded data removed]"
          },
          "metadata": {
            "needs_background": "light"
          }
        }
      ]
    },
    {
      "cell_type": "code",
      "source": [
        "np.random.seed(10)\n",
        "rg1 = np.random.rand()\n",
        "rg1\n",
        "np.random.seed(10)\n",
        "rg2 = np.random.rand()\n",
        "rg2\n",
        "print(rg1, rg2)"
      ],
      "metadata": {
        "colab": {
          "base_uri": "https://localhost:8080/"
        },
        "id": "eCvYmJCt5Cqu",
        "outputId": "58c9a452-2521-426a-8a2b-509fda470cb0"
      },
      "execution_count": 70,
      "outputs": [
        {
          "output_type": "stream",
          "name": "stdout",
          "text": [
            "0.771320643266746 0.771320643266746\n"
          ]
        }
      ]
    },
    {
      "cell_type": "markdown",
      "source": [
        "#Statisitcs in NumPy"
      ],
      "metadata": {
        "id": "iBlATZjbFHlw"
      }
    },
    {
      "cell_type": "code",
      "source": [
        "sqrt_ = np.sqrt(25)\n",
        "print(sqrt_)"
      ],
      "metadata": {
        "colab": {
          "base_uri": "https://localhost:8080/"
        },
        "id": "ykQtjXfTkGh7",
        "outputId": "43098147-a317-4fde-e961-f3fdc6626bdf"
      },
      "execution_count": 71,
      "outputs": [
        {
          "output_type": "stream",
          "name": "stdout",
          "text": [
            "5.0\n"
          ]
        }
      ]
    },
    {
      "cell_type": "code",
      "source": [
        "abs_ = np.abs(-5)\n",
        "print(abs_)"
      ],
      "metadata": {
        "colab": {
          "base_uri": "https://localhost:8080/"
        },
        "id": "X0dhHV02kMnY",
        "outputId": "053beb4d-374f-45d3-815d-bb1ec254bb76"
      },
      "execution_count": 72,
      "outputs": [
        {
          "output_type": "stream",
          "name": "stdout",
          "text": [
            "5\n"
          ]
        }
      ]
    },
    {
      "cell_type": "code",
      "source": [
        "pow_ = np.power(2,7)\n",
        "print(pow_)"
      ],
      "metadata": {
        "colab": {
          "base_uri": "https://localhost:8080/"
        },
        "id": "pwyA6bobkMui",
        "outputId": "e48b40af-97cb-473f-8250-4969fd8f061f"
      },
      "execution_count": 73,
      "outputs": [
        {
          "output_type": "stream",
          "name": "stdout",
          "text": [
            "128\n"
          ]
        }
      ]
    },
    {
      "cell_type": "code",
      "source": [
        "log_ = np.log(17)\n",
        "print(log_)"
      ],
      "metadata": {
        "colab": {
          "base_uri": "https://localhost:8080/"
        },
        "id": "yNQ8X5jYkahd",
        "outputId": "963cd651-fb66-463b-eea0-60b7aa720345"
      },
      "execution_count": 74,
      "outputs": [
        {
          "output_type": "stream",
          "name": "stdout",
          "text": [
            "2.833213344056216\n"
          ]
        }
      ]
    },
    {
      "cell_type": "code",
      "source": [
        "exp_ = np.exp(23)\n",
        "print(exp_)"
      ],
      "metadata": {
        "colab": {
          "base_uri": "https://localhost:8080/"
        },
        "id": "1Jc2pf0qkak-",
        "outputId": "c574bed6-3d02-4fea-974f-f49fe7b24bb9"
      },
      "execution_count": 75,
      "outputs": [
        {
          "output_type": "stream",
          "name": "stdout",
          "text": [
            "9744803446.248903\n"
          ]
        }
      ]
    },
    {
      "cell_type": "code",
      "source": [
        "list_0 = [1,3,4,6,7,8,-2]\n",
        "min_ = np.min(list_0)\n",
        "print(min_)"
      ],
      "metadata": {
        "colab": {
          "base_uri": "https://localhost:8080/"
        },
        "id": "nXSMLVCDmHAq",
        "outputId": "7320df40-5434-4af8-fb7b-b140e8be5fcf"
      },
      "execution_count": 76,
      "outputs": [
        {
          "output_type": "stream",
          "name": "stdout",
          "text": [
            "-2\n"
          ]
        }
      ]
    },
    {
      "cell_type": "code",
      "source": [
        "max_ = np.max(list_0)\n",
        "print(max_)"
      ],
      "metadata": {
        "colab": {
          "base_uri": "https://localhost:8080/"
        },
        "id": "Bi6AQZU9mHGS",
        "outputId": "43453d65-3f47-439d-ac18-e28fca9072fa"
      },
      "execution_count": 77,
      "outputs": [
        {
          "output_type": "stream",
          "name": "stdout",
          "text": [
            "8\n"
          ]
        }
      ]
    },
    {
      "cell_type": "code",
      "source": [
        "print(array_9)\n",
        "print('*********************************************************************')\n",
        "med1 = np.median(array_9)\n",
        "print(med1)\n",
        "print('*********************************************************************')\n",
        "med2 = np.median(array_9, axis=0)\n",
        "print(med2)\n",
        "print('*********************************************************************')\n",
        "med3 = np.median(array_9, axis=1)\n",
        "print(med3)"
      ],
      "metadata": {
        "colab": {
          "base_uri": "https://localhost:8080/"
        },
        "id": "TVAr5IWMFGgz",
        "outputId": "b096c45c-c774-4c61-a239-5a39b980c54e"
      },
      "execution_count": 78,
      "outputs": [
        {
          "output_type": "stream",
          "name": "stdout",
          "text": [
            "[[ 1  3  5  7  9]\n",
            " [ 2  4  6  8 10]\n",
            " [ 1  2  3  4  5]]\n",
            "*********************************************************************\n",
            "4.0\n",
            "*********************************************************************\n",
            "[1. 3. 5. 7. 9.]\n",
            "*********************************************************************\n",
            "[5. 6. 3.]\n"
          ]
        }
      ]
    },
    {
      "cell_type": "code",
      "source": [
        "print(array_9)\n",
        "print('*********************************************************************')\n",
        "med4 = np.average(array_9)\n",
        "print(med4)\n",
        "print('*********************************************************************')\n",
        "med5 = np.average(array_9, axis=0)\n",
        "print(med5)\n",
        "print('*********************************************************************')\n",
        "med6 = np.average(array_9, axis=1)\n",
        "print(med6)"
      ],
      "metadata": {
        "colab": {
          "base_uri": "https://localhost:8080/"
        },
        "id": "dKvpleo7FAsk",
        "outputId": "fb598448-fc7a-4eb7-8824-fc76e1fd5596"
      },
      "execution_count": 79,
      "outputs": [
        {
          "output_type": "stream",
          "name": "stdout",
          "text": [
            "[[ 1  3  5  7  9]\n",
            " [ 2  4  6  8 10]\n",
            " [ 1  2  3  4  5]]\n",
            "*********************************************************************\n",
            "4.666666666666667\n",
            "*********************************************************************\n",
            "[1.33333333 3.         4.66666667 6.33333333 8.        ]\n",
            "*********************************************************************\n",
            "[5. 6. 3.]\n"
          ]
        }
      ]
    },
    {
      "cell_type": "code",
      "source": [
        "print(array_9)\n",
        "print('*********************************************************************')\n",
        "med7 = np.mean(array_9)\n",
        "print(med7)\n",
        "print('*********************************************************************')\n",
        "med8 = np.mean(array_9, axis=0)\n",
        "print(med8)\n",
        "print('*********************************************************************')\n",
        "med9 = np.mean(array_9, axis=1)\n",
        "print(med9)"
      ],
      "metadata": {
        "colab": {
          "base_uri": "https://localhost:8080/"
        },
        "id": "Oe9zqKpJFAwQ",
        "outputId": "42bca26e-67c6-45fa-f7ae-f21f94fe0dcb"
      },
      "execution_count": 80,
      "outputs": [
        {
          "output_type": "stream",
          "name": "stdout",
          "text": [
            "[[ 1  3  5  7  9]\n",
            " [ 2  4  6  8 10]\n",
            " [ 1  2  3  4  5]]\n",
            "*********************************************************************\n",
            "4.666666666666667\n",
            "*********************************************************************\n",
            "[1.33333333 3.         4.66666667 6.33333333 8.        ]\n",
            "*********************************************************************\n",
            "[5. 6. 3.]\n"
          ]
        }
      ]
    },
    {
      "cell_type": "code",
      "source": [
        "print(array_9)\n",
        "print('*********************************************************************')\n",
        "med10 = np.std(array_9)\n",
        "print(med10)\n",
        "print('*********************************************************************')\n",
        "med11 = np.std(array_9, axis=0)\n",
        "print(med11)\n",
        "print('*********************************************************************')\n",
        "med12 = np.std(array_9, axis=1)\n",
        "print(med12)"
      ],
      "metadata": {
        "colab": {
          "base_uri": "https://localhost:8080/"
        },
        "id": "86wGHEDOFAzz",
        "outputId": "2f6b997b-8780-4f98-be1b-22fb5f35063e"
      },
      "execution_count": 81,
      "outputs": [
        {
          "output_type": "stream",
          "name": "stdout",
          "text": [
            "[[ 1  3  5  7  9]\n",
            " [ 2  4  6  8 10]\n",
            " [ 1  2  3  4  5]]\n",
            "*********************************************************************\n",
            "2.748737083745107\n",
            "*********************************************************************\n",
            "[0.47140452 0.81649658 1.24721913 1.69967317 2.1602469 ]\n",
            "*********************************************************************\n",
            "[2.82842712 2.82842712 1.41421356]\n"
          ]
        }
      ]
    },
    {
      "cell_type": "code",
      "source": [
        "print(array_9)\n",
        "print('*********************************************************************')\n",
        "med13 = np.var(array_9)\n",
        "print(med13)\n",
        "print('*********************************************************************')\n",
        "med14 = np.var(array_9, axis=0)\n",
        "print(med14)\n",
        "print('*********************************************************************')\n",
        "med15 = np.var(array_9, axis=1)\n",
        "print(med15)"
      ],
      "metadata": {
        "colab": {
          "base_uri": "https://localhost:8080/"
        },
        "id": "P9GT1OuIFA3E",
        "outputId": "9b8ca7e5-4b5f-47a0-e8b8-7a1fb4987a96"
      },
      "execution_count": 82,
      "outputs": [
        {
          "output_type": "stream",
          "name": "stdout",
          "text": [
            "[[ 1  3  5  7  9]\n",
            " [ 2  4  6  8 10]\n",
            " [ 1  2  3  4  5]]\n",
            "*********************************************************************\n",
            "7.555555555555555\n",
            "*********************************************************************\n",
            "[0.22222222 0.66666667 1.55555556 2.88888889 4.66666667]\n",
            "*********************************************************************\n",
            "[8. 8. 2.]\n"
          ]
        }
      ]
    },
    {
      "cell_type": "code",
      "source": [
        "array_1.max()"
      ],
      "metadata": {
        "colab": {
          "base_uri": "https://localhost:8080/"
        },
        "id": "D2-OJZQp7mne",
        "outputId": "65fb057a-5205-41b5-a142-da9bab4860b1"
      },
      "execution_count": 83,
      "outputs": [
        {
          "output_type": "execute_result",
          "data": {
            "text/plain": [
              "9"
            ]
          },
          "metadata": {},
          "execution_count": 83
        }
      ]
    },
    {
      "cell_type": "code",
      "source": [
        "array_1.min()"
      ],
      "metadata": {
        "colab": {
          "base_uri": "https://localhost:8080/"
        },
        "id": "3v-D6nu17r0H",
        "outputId": "5d4a771d-a09a-4dd2-805f-22573b31f0f4"
      },
      "execution_count": 84,
      "outputs": [
        {
          "output_type": "execute_result",
          "data": {
            "text/plain": [
              "0"
            ]
          },
          "metadata": {},
          "execution_count": 84
        }
      ]
    },
    {
      "cell_type": "code",
      "source": [
        "array_9.min()"
      ],
      "metadata": {
        "colab": {
          "base_uri": "https://localhost:8080/"
        },
        "id": "CSMHuS6S7uEU",
        "outputId": "a0a28b07-7545-40eb-8ec2-180218a73585"
      },
      "execution_count": 85,
      "outputs": [
        {
          "output_type": "execute_result",
          "data": {
            "text/plain": [
              "1"
            ]
          },
          "metadata": {},
          "execution_count": 85
        }
      ]
    },
    {
      "cell_type": "code",
      "source": [
        "array_9.max()"
      ],
      "metadata": {
        "colab": {
          "base_uri": "https://localhost:8080/"
        },
        "id": "CrrGhk--7yff",
        "outputId": "806e60fd-fe5d-4184-8c98-745f454cdfba"
      },
      "execution_count": 86,
      "outputs": [
        {
          "output_type": "execute_result",
          "data": {
            "text/plain": [
              "10"
            ]
          },
          "metadata": {},
          "execution_count": 86
        }
      ]
    },
    {
      "cell_type": "markdown",
      "source": [
        "#reshape"
      ],
      "metadata": {
        "id": "Ei-jpXbfHFSd"
      }
    },
    {
      "cell_type": "code",
      "source": [
        "print(array_9)\n",
        "print('shape of array', array_9.shape)\n",
        "print('reshape 1', array_9.reshape(1,-1))\n",
        "print('reshape 2', array_9.reshape(-1,1))"
      ],
      "metadata": {
        "colab": {
          "base_uri": "https://localhost:8080/"
        },
        "id": "tzXDDlZnFA8Y",
        "outputId": "8ad025eb-7ffd-4746-fba1-3f83961b2f79"
      },
      "execution_count": 87,
      "outputs": [
        {
          "output_type": "stream",
          "name": "stdout",
          "text": [
            "[[ 1  3  5  7  9]\n",
            " [ 2  4  6  8 10]\n",
            " [ 1  2  3  4  5]]\n",
            "shape of array (3, 5)\n",
            "reshape 1 [[ 1  3  5  7  9  2  4  6  8 10  1  2  3  4  5]]\n",
            "reshape 2 [[ 1]\n",
            " [ 3]\n",
            " [ 5]\n",
            " [ 7]\n",
            " [ 9]\n",
            " [ 2]\n",
            " [ 4]\n",
            " [ 6]\n",
            " [ 8]\n",
            " [10]\n",
            " [ 1]\n",
            " [ 2]\n",
            " [ 3]\n",
            " [ 4]\n",
            " [ 5]]\n"
          ]
        }
      ]
    },
    {
      "cell_type": "markdown",
      "source": [
        "#Stacking"
      ],
      "metadata": {
        "id": "Pfji4JK0IJ-w"
      }
    },
    {
      "cell_type": "code",
      "source": [
        "sta1 = np.random.randint(10, size=(3,2))\n",
        "sta2 = np.random.randint(10, size=(3,2))\n",
        "print(sta1)\n",
        "print(sta2)"
      ],
      "metadata": {
        "colab": {
          "base_uri": "https://localhost:8080/"
        },
        "id": "l6cpzrsFIJkH",
        "outputId": "48fbe95a-0c33-4d16-9652-362d4a22e9ca"
      },
      "execution_count": 88,
      "outputs": [
        {
          "output_type": "stream",
          "name": "stdout",
          "text": [
            "[[4 0]\n",
            " [1 9]\n",
            " [0 1]]\n",
            "[[8 9]\n",
            " [0 8]\n",
            " [6 4]]\n"
          ]
        }
      ]
    },
    {
      "cell_type": "code",
      "source": [
        "sta3 = np.hstack((sta1, sta2))\n",
        "print(sta3)"
      ],
      "metadata": {
        "colab": {
          "base_uri": "https://localhost:8080/"
        },
        "id": "om6oUqHrIiO-",
        "outputId": "7c53090b-4eab-4df6-871d-f0368270a851"
      },
      "execution_count": 89,
      "outputs": [
        {
          "output_type": "stream",
          "name": "stdout",
          "text": [
            "[[4 0 8 9]\n",
            " [1 9 0 8]\n",
            " [0 1 6 4]]\n"
          ]
        }
      ]
    },
    {
      "cell_type": "code",
      "source": [
        "sta4 = np.vstack((sta1, sta2))\n",
        "print(sta4)"
      ],
      "metadata": {
        "colab": {
          "base_uri": "https://localhost:8080/"
        },
        "id": "1cO5uA5VItBv",
        "outputId": "09b70555-ba2d-47fe-b196-65d81263a1da"
      },
      "execution_count": 90,
      "outputs": [
        {
          "output_type": "stream",
          "name": "stdout",
          "text": [
            "[[4 0]\n",
            " [1 9]\n",
            " [0 1]\n",
            " [8 9]\n",
            " [0 8]\n",
            " [6 4]]\n"
          ]
        }
      ]
    },
    {
      "cell_type": "markdown",
      "source": [
        "#Some special functions in array"
      ],
      "metadata": {
        "id": "abP2Liu0u0QL"
      }
    },
    {
      "cell_type": "code",
      "source": [
        "np.zeros((5,3))"
      ],
      "metadata": {
        "colab": {
          "base_uri": "https://localhost:8080/"
        },
        "id": "bbaL5IMXCLsg",
        "outputId": "fb64b4c7-8992-4460-a45b-91e0e925ac35"
      },
      "execution_count": 91,
      "outputs": [
        {
          "output_type": "execute_result",
          "data": {
            "text/plain": [
              "array([[0., 0., 0.],\n",
              "       [0., 0., 0.],\n",
              "       [0., 0., 0.],\n",
              "       [0., 0., 0.],\n",
              "       [0., 0., 0.]])"
            ]
          },
          "metadata": {},
          "execution_count": 91
        }
      ]
    },
    {
      "cell_type": "code",
      "source": [
        "np.ones((4,2,2), dtype='int32')"
      ],
      "metadata": {
        "colab": {
          "base_uri": "https://localhost:8080/"
        },
        "id": "mlMVkEnOCP0z",
        "outputId": "f665d6e2-08d6-45d9-f413-0bfeb43e93f7"
      },
      "execution_count": 92,
      "outputs": [
        {
          "output_type": "execute_result",
          "data": {
            "text/plain": [
              "array([[[1, 1],\n",
              "        [1, 1]],\n",
              "\n",
              "       [[1, 1],\n",
              "        [1, 1]],\n",
              "\n",
              "       [[1, 1],\n",
              "        [1, 1]],\n",
              "\n",
              "       [[1, 1],\n",
              "        [1, 1]]], dtype=int32)"
            ]
          },
          "metadata": {},
          "execution_count": 92
        }
      ]
    },
    {
      "cell_type": "code",
      "source": [
        "np.identity(3)"
      ],
      "metadata": {
        "colab": {
          "base_uri": "https://localhost:8080/"
        },
        "id": "CD3rh6gyCgRV",
        "outputId": "aac5dc6e-ff33-4196-f2f2-666bf0a5c634"
      },
      "execution_count": 93,
      "outputs": [
        {
          "output_type": "execute_result",
          "data": {
            "text/plain": [
              "array([[1., 0., 0.],\n",
              "       [0., 1., 0.],\n",
              "       [0., 0., 1.]])"
            ]
          },
          "metadata": {},
          "execution_count": 93
        }
      ]
    },
    {
      "cell_type": "code",
      "source": [
        "#Euler’s constant, base of natural logarithms, Napier’s constant\n",
        "#e = 2.71828182845904523536028747135266249775724709369995...\n",
        "array_a = np.array([[1,2,3,4,5],[6,7,8,9,10]])\n",
        "array_fulllike = np.full_like(array_a, fill_value=np.e, dtype=np.float32)\n",
        "array_fulllike"
      ],
      "metadata": {
        "colab": {
          "base_uri": "https://localhost:8080/"
        },
        "id": "j5mv0g73tmSd",
        "outputId": "6aa608d3-308c-4683-a82d-aae376db8c19"
      },
      "execution_count": 94,
      "outputs": [
        {
          "output_type": "execute_result",
          "data": {
            "text/plain": [
              "array([[2.7182817, 2.7182817, 2.7182817, 2.7182817, 2.7182817],\n",
              "       [2.7182817, 2.7182817, 2.7182817, 2.7182817, 2.7182817]],\n",
              "      dtype=float32)"
            ]
          },
          "metadata": {},
          "execution_count": 94
        }
      ]
    },
    {
      "cell_type": "code",
      "source": [
        "import matplotlib.pyplot as plt\n",
        "array_b = np.logspace(start=1, stop=100, num=10, base=np.pi)\n",
        "print(array_b)\n",
        "plt.plot(array_b)"
      ],
      "metadata": {
        "colab": {
          "base_uri": "https://localhost:8080/",
          "height": 345
        },
        "id": "eaqokk3ZuhuV",
        "outputId": "07792a79-989a-49a2-a557-0dff0cbd846c"
      },
      "execution_count": 95,
      "outputs": [
        {
          "output_type": "stream",
          "name": "stdout",
          "text": [
            "[3.14159265e+00 9.24269182e+05 2.71923707e+11 8.00010472e+16\n",
            " 2.35366295e+22 6.92457097e+27 2.03723660e+33 5.99363194e+38\n",
            " 1.76335060e+44 5.18784831e+49]\n"
          ]
        },
        {
          "output_type": "execute_result",
          "data": {
            "text/plain": [
              "[<matplotlib.lines.Line2D at 0x7f9f0e6ab290>]"
            ]
          },
          "metadata": {},
          "execution_count": 95
        },
        {
          "output_type": "display_data",
          "data": {
            "text/plain": [
              "<Figure size 432x288 with 1 Axes>"
            ],
            "image/png": "[encoded data removed]"
          },
          "metadata": {
            "needs_background": "light"
          }
        }
      ]
    },
    {
      "cell_type": "code",
      "source": [
        "array_c = [1,2,3,4,5]\n",
        "array_d = [-1,-2,-3,-4,-5]\n",
        "c, d = np.meshgrid(array_c, array_d)\n",
        "\n",
        "print('--------------------------------------------')\n",
        "print(c)\n",
        "print('--------------------------------------------')\n",
        "print(d)"
      ],
      "metadata": {
        "colab": {
          "base_uri": "https://localhost:8080/"
        },
        "id": "TZegfwOavRji",
        "outputId": "42e8133f-13db-4983-be26-4b1e8a1b96ab"
      },
      "execution_count": 96,
      "outputs": [
        {
          "output_type": "stream",
          "name": "stdout",
          "text": [
            "--------------------------------------------\n",
            "[[1 2 3 4 5]\n",
            " [1 2 3 4 5]\n",
            " [1 2 3 4 5]\n",
            " [1 2 3 4 5]\n",
            " [1 2 3 4 5]]\n",
            "--------------------------------------------\n",
            "[[-1 -1 -1 -1 -1]\n",
            " [-2 -2 -2 -2 -2]\n",
            " [-3 -3 -3 -3 -3]\n",
            " [-4 -4 -4 -4 -4]\n",
            " [-5 -5 -5 -5 -5]]\n"
          ]
        }
      ]
    },
    {
      "cell_type": "code",
      "source": [
        "plt.plot(c, d, linestyle=\"none\", marker=\"x\", color=\"blue\");"
      ],
      "metadata": {
        "colab": {
          "base_uri": "https://localhost:8080/",
          "height": 265
        },
        "id": "N29a57EjwKZT",
        "outputId": "1eb9929c-ae1f-4f81-b31b-13b34d1bcc1c"
      },
      "execution_count": 97,
      "outputs": [
        {
          "output_type": "display_data",
          "data": {
            "text/plain": [
              "<Figure size 432x288 with 1 Axes>"
            ],
            "image/png": "[encoded data removed]"
          },
          "metadata": {
            "needs_background": "light"
          }
        }
      ]
    },
    {
      "cell_type": "code",
      "source": [
        "array_e = np.random.randint(0, 50, size=(4, 5))\n",
        "print(array_e)\n",
        "print('--------------------------------------------------------------------')\n",
        "print(array_e.flatten())"
      ],
      "metadata": {
        "colab": {
          "base_uri": "https://localhost:8080/"
        },
        "id": "M_2MjehQVMCs",
        "outputId": "5335d67e-8b11-469f-a4bc-622a175ac633"
      },
      "execution_count": 98,
      "outputs": [
        {
          "output_type": "stream",
          "name": "stdout",
          "text": [
            "[[16 36 47 11 24]\n",
            " [43 33  8 36 14]\n",
            " [49 13  5 13 25]\n",
            " [13 28 22 30 30]]\n",
            "--------------------------------------------------------------------\n",
            "[16 36 47 11 24 43 33  8 36 14 49 13  5 13 25 13 28 22 30 30]\n"
          ]
        }
      ]
    },
    {
      "cell_type": "code",
      "source": [
        "array_f = np.random.randint(-10, 10, size=100)\n",
        "print(array_f)\n",
        "np.count_nonzero(array_f)"
      ],
      "metadata": {
        "colab": {
          "base_uri": "https://localhost:8080/"
        },
        "id": "MRtzDhcGV-Ew",
        "outputId": "82e7c2f9-7415-4c0e-dcb2-eaea754648ec"
      },
      "execution_count": 99,
      "outputs": [
        {
          "output_type": "stream",
          "name": "stdout",
          "text": [
            "[  2  -9  -6   8   3   1   0  -1   5   8   6  -3   1   7   4  -3   1  -9\n",
            " -10   2  -5  -6  -3   8   2  -8  -2   5   3   5  -4   0   1   6   2 -10\n",
            "   7   5   2  -2   0   3   1  -9   8   3  -2  -1  -5 -10   8  -7   6   8\n",
            "   6   4   9   5   9   7   8   4   6   0   7 -10   7  -1   6  -1   2   8\n",
            "   7   7   6 -10  -5  -1 -10  -4 -10  -8  -7  -7   8   3   1   6   3   1\n",
            "   7   9  -5   1  -9   1 -10  -5  -1  -2]\n"
          ]
        },
        {
          "output_type": "execute_result",
          "data": {
            "text/plain": [
              "96"
            ]
          },
          "metadata": {},
          "execution_count": 99
        }
      ]
    },
    {
      "cell_type": "code",
      "source": [
        "array_g = np.random.randint(-20, 10, size=100)\n",
        "print('actual length',len(array_g))\n",
        "split_array_g = np.array_split(array_g,10)\n",
        "print('splitted length',len(split_array_g))"
      ],
      "metadata": {
        "colab": {
          "base_uri": "https://localhost:8080/"
        },
        "id": "gdipGwt-X0sN",
        "outputId": "54f3fe9d-987d-42bc-aa02-8489d7bc458f"
      },
      "execution_count": 100,
      "outputs": [
        {
          "output_type": "stream",
          "name": "stdout",
          "text": [
            "actual length 100\n",
            "splitted length 10\n"
          ]
        }
      ]
    },
    {
      "cell_type": "code",
      "source": [
        "array_h = np.random.randint(-10, 10, size=50)\n",
        "print(array_h)\n",
        "clipped_version = np.clip(array_h, 5, 12)\n",
        "print(clipped_version)"
      ],
      "metadata": {
        "colab": {
          "base_uri": "https://localhost:8080/"
        },
        "id": "QXUc9XcgYrPj",
        "outputId": "100e8fc9-831e-4c0b-d1dc-63518cfb2710"
      },
      "execution_count": 101,
      "outputs": [
        {
          "output_type": "stream",
          "name": "stdout",
          "text": [
            "[ -4  -1  -2   6   1  -3   7  -3   7  -9   1   4   0   5  -5   6   3  -2\n",
            "  -7   2   7  -5   8   9  -5   2  -4  -2   6   0  -6   9  -1  -7  -7   6\n",
            "   1  -1   8   9  -1   7   0  -6 -10 -10   0  -2   7   3]\n",
            "[5 5 5 6 5 5 7 5 7 5 5 5 5 5 5 6 5 5 5 5 7 5 8 9 5 5 5 5 6 5 5 9 5 5 5 6 5\n",
            " 5 8 9 5 7 5 5 5 5 5 5 7 5]\n"
          ]
        }
      ]
    },
    {
      "cell_type": "code",
      "source": [
        "array_i = np.array([1, 2, np.nan, 4, 5, 6 ,7, np.nan, 8, 9, 10])\n",
        "print(array_i.mean())\n",
        "print('--------------------------------------------------------')\n",
        "print(np.nanmean(array_i))"
      ],
      "metadata": {
        "colab": {
          "base_uri": "https://localhost:8080/"
        },
        "id": "HavCPA-FaDG_",
        "outputId": "3463fb80-fddc-4fee-cfff-e13690f02514"
      },
      "execution_count": 102,
      "outputs": [
        {
          "output_type": "stream",
          "name": "stdout",
          "text": [
            "nan\n",
            "--------------------------------------------------------\n",
            "5.777777777777778\n"
          ]
        }
      ]
    },
    {
      "cell_type": "code",
      "source": [
        "array_j = np.random.rand(10)\n",
        "print(array_j)\n",
        "print('--------------------------------------------------------')\n",
        "array_k = np.rint(array_j[:5])\n",
        "print(array_k)"
      ],
      "metadata": {
        "colab": {
          "base_uri": "https://localhost:8080/"
        },
        "id": "aI2NQj9naiCm",
        "outputId": "8162cea6-7859-48a9-e9a7-a91e0d5b28d3"
      },
      "execution_count": 103,
      "outputs": [
        {
          "output_type": "stream",
          "name": "stdout",
          "text": [
            "[0.57377623 0.29383156 0.65572674 0.80356835 0.3512135  0.09344038\n",
            " 0.81331608 0.78486672 0.39341911 0.86447919]\n",
            "--------------------------------------------------------\n",
            "[1. 0. 1. 1. 0.]\n"
          ]
        }
      ]
    },
    {
      "cell_type": "code",
      "source": [
        "array_l = np.random.randint(-10, 10, size=20)\n",
        "array_m = np.random.randint(20, 40, size=20)\n",
        "\n",
        "slope, intercept = np.polyfit(array_l, array_m, deg=1)\n",
        "\n",
        "print('slope', slope)\n",
        "print('intercept', intercept)"
      ],
      "metadata": {
        "colab": {
          "base_uri": "https://localhost:8080/"
        },
        "id": "f_3QUP2qbdOO",
        "outputId": "0c5e720e-dd45-49b9-d518-4bb604b9af04"
      },
      "execution_count": 104,
      "outputs": [
        {
          "output_type": "stream",
          "name": "stdout",
          "text": [
            "slope 0.20312500000000014\n",
            "intercept 31.253125\n"
          ]
        }
      ]
    },
    {
      "cell_type": "code",
      "source": [
        "array_n = np.random.rand(1000)\n",
        "array_o = np.random.rand(1000)\n",
        "\n",
        "print(np.all(array_n == array_o))\n",
        "print('--------------------------------------------------------')\n",
        "\n",
        "array_p = np.random.randint(1, 100, size=100)\n",
        "array_q = np.random.randint(1, 100, size=100)\n",
        "print(np.any(array_p == array_q))"
      ],
      "metadata": {
        "colab": {
          "base_uri": "https://localhost:8080/"
        },
        "id": "1vcSzbuGcX25",
        "outputId": "5b600ea4-9df7-4782-9e80-4d018ed8af35"
      },
      "execution_count": 105,
      "outputs": [
        {
          "output_type": "stream",
          "name": "stdout",
          "text": [
            "False\n",
            "--------------------------------------------------------\n",
            "True\n"
          ]
        }
      ]
    },
    {
      "cell_type": "code",
      "source": [
        "array_r = np.random.rand(100)\n",
        "where_ = np.where(array_r < 0.3)\n",
        "array_r[where_]"
      ],
      "metadata": {
        "colab": {
          "base_uri": "https://localhost:8080/"
        },
        "id": "0pCKYF_YdI5t",
        "outputId": "e2c83f9a-a475-42cb-9cf5-d8f22f4af062"
      },
      "execution_count": 106,
      "outputs": [
        {
          "output_type": "execute_result",
          "data": {
            "text/plain": [
              "array([0.12847779, 0.28810375, 0.04134238, 0.06912654, 0.05795079,\n",
              "       0.25744747, 0.29481545, 0.13899378, 0.12354417, 0.18347298,\n",
              "       0.0483832 , 0.06383549, 0.03821707, 0.18089689, 0.0775995 ,\n",
              "       0.19785196, 0.01889393, 0.26127613, 0.15432856, 0.15566957,\n",
              "       0.26643474, 0.00368012, 0.25545707, 0.07713538, 0.24371285,\n",
              "       0.02089696, 0.23873725, 0.21061186, 0.19598517, 0.27466468,\n",
              "       0.27947976, 0.12892445])"
            ]
          },
          "metadata": {},
          "execution_count": 106
        }
      ]
    },
    {
      "cell_type": "code",
      "source": [
        "array_s = np.random.randint(-10, 10, size=20)\n",
        "array_t = np.random.randint(-10, 10, size=20)\n",
        "\n",
        "rows_ = np.r_[array_s, array_t]\n",
        "columns_ = np.c_[array_s, array_t]\n",
        "\n",
        "print(rows_.shape)\n",
        "print(columns_.shape)"
      ],
      "metadata": {
        "colab": {
          "base_uri": "https://localhost:8080/"
        },
        "id": "jo9nLxOdd5Ad",
        "outputId": "e32207dc-9d96-4046-bd66-6493d1e7d96c"
      },
      "execution_count": 107,
      "outputs": [
        {
          "output_type": "stream",
          "name": "stdout",
          "text": [
            "(40,)\n",
            "(20, 2)\n"
          ]
        }
      ]
    },
    {
      "cell_type": "code",
      "source": [
        "array_u =np.full((5, 3), 7)\n",
        "print(array_u)\n",
        "print('----------------------------------------------------------------------------')\n",
        "array_v = np.full((4, 2, 5), [[1, 2, 3, 4, 5], [8, 9, 10, 11, 12]])\n",
        "print(array_v)"
      ],
      "metadata": {
        "colab": {
          "base_uri": "https://localhost:8080/"
        },
        "id": "TXmsaIz4e1oM",
        "outputId": "a29e4aa9-b388-4c9b-977a-a238f9e79bcd"
      },
      "execution_count": 108,
      "outputs": [
        {
          "output_type": "stream",
          "name": "stdout",
          "text": [
            "[[7 7 7]\n",
            " [7 7 7]\n",
            " [7 7 7]\n",
            " [7 7 7]\n",
            " [7 7 7]]\n",
            "----------------------------------------------------------------------------\n",
            "[[[ 1  2  3  4  5]\n",
            "  [ 8  9 10 11 12]]\n",
            "\n",
            " [[ 1  2  3  4  5]\n",
            "  [ 8  9 10 11 12]]\n",
            "\n",
            " [[ 1  2  3  4  5]\n",
            "  [ 8  9 10 11 12]]\n",
            "\n",
            " [[ 1  2  3  4  5]\n",
            "  [ 8  9 10 11 12]]]\n"
          ]
        }
      ]
    },
    {
      "cell_type": "code",
      "source": [
        "array_u = np.fromstring(\"6.2; 45; 55.958; 8.702\", sep=';')\n",
        "print(array_u)\n",
        "print('----------------------------------------------------------------------------')\n",
        "array_w = np.fromstring(\"55 60 450 15425\", dtype=int, sep=' ')\n",
        "print(array_w)\n",
        "print('----------------------------------------------------------------------------')\n",
        "array_x = np.fromstring(\"Prem;anand\", sep=';')\n",
        "print(array_x)"
      ],
      "metadata": {
        "colab": {
          "base_uri": "https://localhost:8080/"
        },
        "id": "PgKdjyS4wrWc",
        "outputId": "8b0798d0-5480-4ce3-ea14-daf014119db4"
      },
      "execution_count": 109,
      "outputs": [
        {
          "output_type": "stream",
          "name": "stdout",
          "text": [
            "[ 6.2   45.    55.958  8.702]\n",
            "----------------------------------------------------------------------------\n",
            "[   55    60   450 15425]\n",
            "----------------------------------------------------------------------------\n",
            "[]\n"
          ]
        },
        {
          "output_type": "stream",
          "name": "stderr",
          "text": [
            "/usr/local/lib/python3.7/dist-packages/ipykernel_launcher.py:7: DeprecationWarning: string or file could not be read to its end due to unmatched data; this will raise a ValueError in the future.\n",
            "  import sys\n"
          ]
        }
      ]
    },
    {
      "cell_type": "code",
      "source": [
        "print(array_9)\n",
        "print('----------------------------------------------------------------------------')\n",
        "sq = np.squeeze(array_9)\n",
        "print(sq)"
      ],
      "metadata": {
        "colab": {
          "base_uri": "https://localhost:8080/"
        },
        "id": "ns5J3mh-zNhy",
        "outputId": "4f919d82-17a2-4c67-b059-c6b89c14d746"
      },
      "execution_count": 110,
      "outputs": [
        {
          "output_type": "stream",
          "name": "stdout",
          "text": [
            "[[ 1  3  5  7  9]\n",
            " [ 2  4  6  8 10]\n",
            " [ 1  2  3  4  5]]\n",
            "----------------------------------------------------------------------------\n",
            "[[ 1  3  5  7  9]\n",
            " [ 2  4  6  8 10]\n",
            " [ 1  2  3  4  5]]\n"
          ]
        }
      ]
    },
    {
      "cell_type": "code",
      "source": [
        "print(array_1)\n",
        "print('----------------------------------------------------------------------------')\n",
        "uni_ = np.unique(array_1,return_counts=True)\n",
        "print(uni_)\n",
        "print('----------------------------------------------------------------------------')\n",
        "uni_1 = np.array([[12, 7], [13, 7]])\n",
        "print(uni_1)\n",
        "print('----------------------------------------------------------------------------')\n",
        "uni_2 = np.unique(uni_1,return_counts=True)\n",
        "print(uni_2)"
      ],
      "metadata": {
        "colab": {
          "base_uri": "https://localhost:8080/"
        },
        "id": "ynOo6YGO0DIH",
        "outputId": "e5a20200-48d2-4632-ef50-82800dc19d92"
      },
      "execution_count": 111,
      "outputs": [
        {
          "output_type": "stream",
          "name": "stdout",
          "text": [
            "[0 1 2 3 4 5 6 7 8 9]\n",
            "----------------------------------------------------------------------------\n",
            "(array([0, 1, 2, 3, 4, 5, 6, 7, 8, 9]), array([1, 1, 1, 1, 1, 1, 1, 1, 1, 1]))\n",
            "----------------------------------------------------------------------------\n",
            "[[12  7]\n",
            " [13  7]]\n",
            "----------------------------------------------------------------------------\n",
            "(array([ 7, 12, 13]), array([2, 1, 1]))\n"
          ]
        }
      ]
    },
    {
      "cell_type": "markdown",
      "source": [
        "#Dataset"
      ],
      "metadata": {
        "id": "UVa_zwzezfzi"
      }
    },
    {
      "cell_type": "code",
      "source": [
        "data = np.genfromtxt('Iris.csv', delimiter=\",\", dtype=np.float32)\n",
        "print(data.shape)"
      ],
      "metadata": {
        "colab": {
          "base_uri": "https://localhost:8080/"
        },
        "id": "kC1x0KFq06g0",
        "outputId": "6bf37e43-73ea-40d2-aa52-d71a67aa1ab6"
      },
      "execution_count": 114,
      "outputs": [
        {
          "output_type": "stream",
          "name": "stdout",
          "text": [
            "(151, 6)\n"
          ]
        }
      ]
    }
  ]
}